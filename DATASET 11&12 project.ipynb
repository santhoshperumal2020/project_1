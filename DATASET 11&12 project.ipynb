{
 "cells": [
  {
   "cell_type": "code",
   "execution_count": 1,
   "id": "2df07731",
   "metadata": {},
   "outputs": [],
   "source": [
    "import numpy as np\n",
    "import pandas as pd\n",
    "import matplotlib.pyplot as plt\n",
    "import seaborn as sns\n",
    "import re\n",
    "from sklearn.datasets import load_digits\n",
    "import matplotlib.pyplot as plt\n",
    "import seaborn as sns\n",
    "from sklearn.linear_model import LogisticRegression\n",
    "from sklearn.model_selection import train_test_split"
   ]
  },
  {
   "cell_type": "markdown",
   "id": "fd2b95ee",
   "metadata": {},
   "source": [
    "# DATA SET 11"
   ]
  },
  {
   "cell_type": "code",
   "execution_count": 2,
   "id": "ae953625",
   "metadata": {},
   "outputs": [
    {
     "data": {
      "text/html": [
       "<div>\n",
       "<style scoped>\n",
       "    .dataframe tbody tr th:only-of-type {\n",
       "        vertical-align: middle;\n",
       "    }\n",
       "\n",
       "    .dataframe tbody tr th {\n",
       "        vertical-align: top;\n",
       "    }\n",
       "\n",
       "    .dataframe thead th {\n",
       "        text-align: right;\n",
       "    }\n",
       "</style>\n",
       "<table border=\"1\" class=\"dataframe\">\n",
       "  <thead>\n",
       "    <tr style=\"text-align: right;\">\n",
       "      <th></th>\n",
       "      <th>date</th>\n",
       "      <th>BEN</th>\n",
       "      <th>CO</th>\n",
       "      <th>EBE</th>\n",
       "      <th>NMHC</th>\n",
       "      <th>NO</th>\n",
       "      <th>NO_2</th>\n",
       "      <th>O_3</th>\n",
       "      <th>PM10</th>\n",
       "      <th>PM25</th>\n",
       "      <th>SO_2</th>\n",
       "      <th>TCH</th>\n",
       "      <th>TOL</th>\n",
       "      <th>station</th>\n",
       "    </tr>\n",
       "  </thead>\n",
       "  <tbody>\n",
       "    <tr>\n",
       "      <th>0</th>\n",
       "      <td>2011-11-01 01:00:00</td>\n",
       "      <td>NaN</td>\n",
       "      <td>1.0</td>\n",
       "      <td>NaN</td>\n",
       "      <td>NaN</td>\n",
       "      <td>154.0</td>\n",
       "      <td>84.0</td>\n",
       "      <td>NaN</td>\n",
       "      <td>NaN</td>\n",
       "      <td>NaN</td>\n",
       "      <td>6.0</td>\n",
       "      <td>NaN</td>\n",
       "      <td>NaN</td>\n",
       "      <td>28079004</td>\n",
       "    </tr>\n",
       "    <tr>\n",
       "      <th>1</th>\n",
       "      <td>2011-11-01 01:00:00</td>\n",
       "      <td>2.5</td>\n",
       "      <td>0.4</td>\n",
       "      <td>3.5</td>\n",
       "      <td>0.26</td>\n",
       "      <td>68.0</td>\n",
       "      <td>92.0</td>\n",
       "      <td>3.0</td>\n",
       "      <td>40.0</td>\n",
       "      <td>24.0</td>\n",
       "      <td>9.0</td>\n",
       "      <td>1.54</td>\n",
       "      <td>8.7</td>\n",
       "      <td>28079008</td>\n",
       "    </tr>\n",
       "    <tr>\n",
       "      <th>2</th>\n",
       "      <td>2011-11-01 01:00:00</td>\n",
       "      <td>2.9</td>\n",
       "      <td>NaN</td>\n",
       "      <td>3.8</td>\n",
       "      <td>NaN</td>\n",
       "      <td>96.0</td>\n",
       "      <td>99.0</td>\n",
       "      <td>NaN</td>\n",
       "      <td>NaN</td>\n",
       "      <td>NaN</td>\n",
       "      <td>NaN</td>\n",
       "      <td>NaN</td>\n",
       "      <td>7.2</td>\n",
       "      <td>28079011</td>\n",
       "    </tr>\n",
       "    <tr>\n",
       "      <th>3</th>\n",
       "      <td>2011-11-01 01:00:00</td>\n",
       "      <td>NaN</td>\n",
       "      <td>0.6</td>\n",
       "      <td>NaN</td>\n",
       "      <td>NaN</td>\n",
       "      <td>60.0</td>\n",
       "      <td>83.0</td>\n",
       "      <td>2.0</td>\n",
       "      <td>NaN</td>\n",
       "      <td>NaN</td>\n",
       "      <td>NaN</td>\n",
       "      <td>NaN</td>\n",
       "      <td>NaN</td>\n",
       "      <td>28079016</td>\n",
       "    </tr>\n",
       "    <tr>\n",
       "      <th>4</th>\n",
       "      <td>2011-11-01 01:00:00</td>\n",
       "      <td>NaN</td>\n",
       "      <td>NaN</td>\n",
       "      <td>NaN</td>\n",
       "      <td>NaN</td>\n",
       "      <td>44.0</td>\n",
       "      <td>62.0</td>\n",
       "      <td>3.0</td>\n",
       "      <td>NaN</td>\n",
       "      <td>NaN</td>\n",
       "      <td>3.0</td>\n",
       "      <td>NaN</td>\n",
       "      <td>NaN</td>\n",
       "      <td>28079017</td>\n",
       "    </tr>\n",
       "    <tr>\n",
       "      <th>...</th>\n",
       "      <td>...</td>\n",
       "      <td>...</td>\n",
       "      <td>...</td>\n",
       "      <td>...</td>\n",
       "      <td>...</td>\n",
       "      <td>...</td>\n",
       "      <td>...</td>\n",
       "      <td>...</td>\n",
       "      <td>...</td>\n",
       "      <td>...</td>\n",
       "      <td>...</td>\n",
       "      <td>...</td>\n",
       "      <td>...</td>\n",
       "      <td>...</td>\n",
       "    </tr>\n",
       "    <tr>\n",
       "      <th>209923</th>\n",
       "      <td>2011-09-01 00:00:00</td>\n",
       "      <td>NaN</td>\n",
       "      <td>0.2</td>\n",
       "      <td>NaN</td>\n",
       "      <td>NaN</td>\n",
       "      <td>5.0</td>\n",
       "      <td>19.0</td>\n",
       "      <td>44.0</td>\n",
       "      <td>NaN</td>\n",
       "      <td>NaN</td>\n",
       "      <td>NaN</td>\n",
       "      <td>NaN</td>\n",
       "      <td>NaN</td>\n",
       "      <td>28079056</td>\n",
       "    </tr>\n",
       "    <tr>\n",
       "      <th>209924</th>\n",
       "      <td>2011-09-01 00:00:00</td>\n",
       "      <td>NaN</td>\n",
       "      <td>0.1</td>\n",
       "      <td>NaN</td>\n",
       "      <td>NaN</td>\n",
       "      <td>6.0</td>\n",
       "      <td>29.0</td>\n",
       "      <td>NaN</td>\n",
       "      <td>11.0</td>\n",
       "      <td>NaN</td>\n",
       "      <td>7.0</td>\n",
       "      <td>NaN</td>\n",
       "      <td>NaN</td>\n",
       "      <td>28079057</td>\n",
       "    </tr>\n",
       "    <tr>\n",
       "      <th>209925</th>\n",
       "      <td>2011-09-01 00:00:00</td>\n",
       "      <td>NaN</td>\n",
       "      <td>NaN</td>\n",
       "      <td>NaN</td>\n",
       "      <td>0.23</td>\n",
       "      <td>1.0</td>\n",
       "      <td>21.0</td>\n",
       "      <td>28.0</td>\n",
       "      <td>NaN</td>\n",
       "      <td>NaN</td>\n",
       "      <td>NaN</td>\n",
       "      <td>1.44</td>\n",
       "      <td>NaN</td>\n",
       "      <td>28079058</td>\n",
       "    </tr>\n",
       "    <tr>\n",
       "      <th>209926</th>\n",
       "      <td>2011-09-01 00:00:00</td>\n",
       "      <td>NaN</td>\n",
       "      <td>NaN</td>\n",
       "      <td>NaN</td>\n",
       "      <td>NaN</td>\n",
       "      <td>3.0</td>\n",
       "      <td>15.0</td>\n",
       "      <td>48.0</td>\n",
       "      <td>NaN</td>\n",
       "      <td>NaN</td>\n",
       "      <td>NaN</td>\n",
       "      <td>NaN</td>\n",
       "      <td>NaN</td>\n",
       "      <td>28079059</td>\n",
       "    </tr>\n",
       "    <tr>\n",
       "      <th>209927</th>\n",
       "      <td>2011-09-01 00:00:00</td>\n",
       "      <td>NaN</td>\n",
       "      <td>NaN</td>\n",
       "      <td>NaN</td>\n",
       "      <td>NaN</td>\n",
       "      <td>4.0</td>\n",
       "      <td>33.0</td>\n",
       "      <td>38.0</td>\n",
       "      <td>13.0</td>\n",
       "      <td>NaN</td>\n",
       "      <td>NaN</td>\n",
       "      <td>NaN</td>\n",
       "      <td>NaN</td>\n",
       "      <td>28079060</td>\n",
       "    </tr>\n",
       "  </tbody>\n",
       "</table>\n",
       "<p>209928 rows × 14 columns</p>\n",
       "</div>"
      ],
      "text/plain": [
       "                       date  BEN   CO  EBE  NMHC     NO  NO_2   O_3  PM10  \\\n",
       "0       2011-11-01 01:00:00  NaN  1.0  NaN   NaN  154.0  84.0   NaN   NaN   \n",
       "1       2011-11-01 01:00:00  2.5  0.4  3.5  0.26   68.0  92.0   3.0  40.0   \n",
       "2       2011-11-01 01:00:00  2.9  NaN  3.8   NaN   96.0  99.0   NaN   NaN   \n",
       "3       2011-11-01 01:00:00  NaN  0.6  NaN   NaN   60.0  83.0   2.0   NaN   \n",
       "4       2011-11-01 01:00:00  NaN  NaN  NaN   NaN   44.0  62.0   3.0   NaN   \n",
       "...                     ...  ...  ...  ...   ...    ...   ...   ...   ...   \n",
       "209923  2011-09-01 00:00:00  NaN  0.2  NaN   NaN    5.0  19.0  44.0   NaN   \n",
       "209924  2011-09-01 00:00:00  NaN  0.1  NaN   NaN    6.0  29.0   NaN  11.0   \n",
       "209925  2011-09-01 00:00:00  NaN  NaN  NaN  0.23    1.0  21.0  28.0   NaN   \n",
       "209926  2011-09-01 00:00:00  NaN  NaN  NaN   NaN    3.0  15.0  48.0   NaN   \n",
       "209927  2011-09-01 00:00:00  NaN  NaN  NaN   NaN    4.0  33.0  38.0  13.0   \n",
       "\n",
       "        PM25  SO_2   TCH  TOL   station  \n",
       "0        NaN   6.0   NaN  NaN  28079004  \n",
       "1       24.0   9.0  1.54  8.7  28079008  \n",
       "2        NaN   NaN   NaN  7.2  28079011  \n",
       "3        NaN   NaN   NaN  NaN  28079016  \n",
       "4        NaN   3.0   NaN  NaN  28079017  \n",
       "...      ...   ...   ...  ...       ...  \n",
       "209923   NaN   NaN   NaN  NaN  28079056  \n",
       "209924   NaN   7.0   NaN  NaN  28079057  \n",
       "209925   NaN   NaN  1.44  NaN  28079058  \n",
       "209926   NaN   NaN   NaN  NaN  28079059  \n",
       "209927   NaN   NaN   NaN  NaN  28079060  \n",
       "\n",
       "[209928 rows x 14 columns]"
      ]
     },
     "execution_count": 2,
     "metadata": {},
     "output_type": "execute_result"
    }
   ],
   "source": [
    "a=pd.read_csv(r\"C:\\Users\\user\\Downloads\\C10_air\\csvs_per_year\\csvs_per_year\\madrid_2011.csv\")\n",
    "a"
   ]
  },
  {
   "cell_type": "code",
   "execution_count": 3,
   "id": "1df62522",
   "metadata": {},
   "outputs": [
    {
     "data": {
      "text/html": [
       "<div>\n",
       "<style scoped>\n",
       "    .dataframe tbody tr th:only-of-type {\n",
       "        vertical-align: middle;\n",
       "    }\n",
       "\n",
       "    .dataframe tbody tr th {\n",
       "        vertical-align: top;\n",
       "    }\n",
       "\n",
       "    .dataframe thead th {\n",
       "        text-align: right;\n",
       "    }\n",
       "</style>\n",
       "<table border=\"1\" class=\"dataframe\">\n",
       "  <thead>\n",
       "    <tr style=\"text-align: right;\">\n",
       "      <th></th>\n",
       "      <th>date</th>\n",
       "      <th>BEN</th>\n",
       "      <th>CO</th>\n",
       "      <th>EBE</th>\n",
       "      <th>NMHC</th>\n",
       "      <th>NO</th>\n",
       "      <th>NO_2</th>\n",
       "      <th>O_3</th>\n",
       "      <th>PM10</th>\n",
       "      <th>PM25</th>\n",
       "      <th>SO_2</th>\n",
       "      <th>TCH</th>\n",
       "      <th>TOL</th>\n",
       "      <th>station</th>\n",
       "    </tr>\n",
       "  </thead>\n",
       "  <tbody>\n",
       "    <tr>\n",
       "      <th>0</th>\n",
       "      <td>2011-11-01 01:00:00</td>\n",
       "      <td>10.0</td>\n",
       "      <td>1.0</td>\n",
       "      <td>10.0</td>\n",
       "      <td>10.00</td>\n",
       "      <td>154.0</td>\n",
       "      <td>84.0</td>\n",
       "      <td>10.0</td>\n",
       "      <td>10.0</td>\n",
       "      <td>10.0</td>\n",
       "      <td>6.0</td>\n",
       "      <td>10.00</td>\n",
       "      <td>10.0</td>\n",
       "      <td>28079004</td>\n",
       "    </tr>\n",
       "    <tr>\n",
       "      <th>1</th>\n",
       "      <td>2011-11-01 01:00:00</td>\n",
       "      <td>2.5</td>\n",
       "      <td>0.4</td>\n",
       "      <td>3.5</td>\n",
       "      <td>0.26</td>\n",
       "      <td>68.0</td>\n",
       "      <td>92.0</td>\n",
       "      <td>3.0</td>\n",
       "      <td>40.0</td>\n",
       "      <td>24.0</td>\n",
       "      <td>9.0</td>\n",
       "      <td>1.54</td>\n",
       "      <td>8.7</td>\n",
       "      <td>28079008</td>\n",
       "    </tr>\n",
       "    <tr>\n",
       "      <th>2</th>\n",
       "      <td>2011-11-01 01:00:00</td>\n",
       "      <td>2.9</td>\n",
       "      <td>10.0</td>\n",
       "      <td>3.8</td>\n",
       "      <td>10.00</td>\n",
       "      <td>96.0</td>\n",
       "      <td>99.0</td>\n",
       "      <td>10.0</td>\n",
       "      <td>10.0</td>\n",
       "      <td>10.0</td>\n",
       "      <td>10.0</td>\n",
       "      <td>10.00</td>\n",
       "      <td>7.2</td>\n",
       "      <td>28079011</td>\n",
       "    </tr>\n",
       "    <tr>\n",
       "      <th>3</th>\n",
       "      <td>2011-11-01 01:00:00</td>\n",
       "      <td>10.0</td>\n",
       "      <td>0.6</td>\n",
       "      <td>10.0</td>\n",
       "      <td>10.00</td>\n",
       "      <td>60.0</td>\n",
       "      <td>83.0</td>\n",
       "      <td>2.0</td>\n",
       "      <td>10.0</td>\n",
       "      <td>10.0</td>\n",
       "      <td>10.0</td>\n",
       "      <td>10.00</td>\n",
       "      <td>10.0</td>\n",
       "      <td>28079016</td>\n",
       "    </tr>\n",
       "    <tr>\n",
       "      <th>4</th>\n",
       "      <td>2011-11-01 01:00:00</td>\n",
       "      <td>10.0</td>\n",
       "      <td>10.0</td>\n",
       "      <td>10.0</td>\n",
       "      <td>10.00</td>\n",
       "      <td>44.0</td>\n",
       "      <td>62.0</td>\n",
       "      <td>3.0</td>\n",
       "      <td>10.0</td>\n",
       "      <td>10.0</td>\n",
       "      <td>3.0</td>\n",
       "      <td>10.00</td>\n",
       "      <td>10.0</td>\n",
       "      <td>28079017</td>\n",
       "    </tr>\n",
       "    <tr>\n",
       "      <th>...</th>\n",
       "      <td>...</td>\n",
       "      <td>...</td>\n",
       "      <td>...</td>\n",
       "      <td>...</td>\n",
       "      <td>...</td>\n",
       "      <td>...</td>\n",
       "      <td>...</td>\n",
       "      <td>...</td>\n",
       "      <td>...</td>\n",
       "      <td>...</td>\n",
       "      <td>...</td>\n",
       "      <td>...</td>\n",
       "      <td>...</td>\n",
       "      <td>...</td>\n",
       "    </tr>\n",
       "    <tr>\n",
       "      <th>209923</th>\n",
       "      <td>2011-09-01 00:00:00</td>\n",
       "      <td>10.0</td>\n",
       "      <td>0.2</td>\n",
       "      <td>10.0</td>\n",
       "      <td>10.00</td>\n",
       "      <td>5.0</td>\n",
       "      <td>19.0</td>\n",
       "      <td>44.0</td>\n",
       "      <td>10.0</td>\n",
       "      <td>10.0</td>\n",
       "      <td>10.0</td>\n",
       "      <td>10.00</td>\n",
       "      <td>10.0</td>\n",
       "      <td>28079056</td>\n",
       "    </tr>\n",
       "    <tr>\n",
       "      <th>209924</th>\n",
       "      <td>2011-09-01 00:00:00</td>\n",
       "      <td>10.0</td>\n",
       "      <td>0.1</td>\n",
       "      <td>10.0</td>\n",
       "      <td>10.00</td>\n",
       "      <td>6.0</td>\n",
       "      <td>29.0</td>\n",
       "      <td>10.0</td>\n",
       "      <td>11.0</td>\n",
       "      <td>10.0</td>\n",
       "      <td>7.0</td>\n",
       "      <td>10.00</td>\n",
       "      <td>10.0</td>\n",
       "      <td>28079057</td>\n",
       "    </tr>\n",
       "    <tr>\n",
       "      <th>209925</th>\n",
       "      <td>2011-09-01 00:00:00</td>\n",
       "      <td>10.0</td>\n",
       "      <td>10.0</td>\n",
       "      <td>10.0</td>\n",
       "      <td>0.23</td>\n",
       "      <td>1.0</td>\n",
       "      <td>21.0</td>\n",
       "      <td>28.0</td>\n",
       "      <td>10.0</td>\n",
       "      <td>10.0</td>\n",
       "      <td>10.0</td>\n",
       "      <td>1.44</td>\n",
       "      <td>10.0</td>\n",
       "      <td>28079058</td>\n",
       "    </tr>\n",
       "    <tr>\n",
       "      <th>209926</th>\n",
       "      <td>2011-09-01 00:00:00</td>\n",
       "      <td>10.0</td>\n",
       "      <td>10.0</td>\n",
       "      <td>10.0</td>\n",
       "      <td>10.00</td>\n",
       "      <td>3.0</td>\n",
       "      <td>15.0</td>\n",
       "      <td>48.0</td>\n",
       "      <td>10.0</td>\n",
       "      <td>10.0</td>\n",
       "      <td>10.0</td>\n",
       "      <td>10.00</td>\n",
       "      <td>10.0</td>\n",
       "      <td>28079059</td>\n",
       "    </tr>\n",
       "    <tr>\n",
       "      <th>209927</th>\n",
       "      <td>2011-09-01 00:00:00</td>\n",
       "      <td>10.0</td>\n",
       "      <td>10.0</td>\n",
       "      <td>10.0</td>\n",
       "      <td>10.00</td>\n",
       "      <td>4.0</td>\n",
       "      <td>33.0</td>\n",
       "      <td>38.0</td>\n",
       "      <td>13.0</td>\n",
       "      <td>10.0</td>\n",
       "      <td>10.0</td>\n",
       "      <td>10.00</td>\n",
       "      <td>10.0</td>\n",
       "      <td>28079060</td>\n",
       "    </tr>\n",
       "  </tbody>\n",
       "</table>\n",
       "<p>209928 rows × 14 columns</p>\n",
       "</div>"
      ],
      "text/plain": [
       "                       date   BEN    CO   EBE   NMHC     NO  NO_2   O_3  PM10  \\\n",
       "0       2011-11-01 01:00:00  10.0   1.0  10.0  10.00  154.0  84.0  10.0  10.0   \n",
       "1       2011-11-01 01:00:00   2.5   0.4   3.5   0.26   68.0  92.0   3.0  40.0   \n",
       "2       2011-11-01 01:00:00   2.9  10.0   3.8  10.00   96.0  99.0  10.0  10.0   \n",
       "3       2011-11-01 01:00:00  10.0   0.6  10.0  10.00   60.0  83.0   2.0  10.0   \n",
       "4       2011-11-01 01:00:00  10.0  10.0  10.0  10.00   44.0  62.0   3.0  10.0   \n",
       "...                     ...   ...   ...   ...    ...    ...   ...   ...   ...   \n",
       "209923  2011-09-01 00:00:00  10.0   0.2  10.0  10.00    5.0  19.0  44.0  10.0   \n",
       "209924  2011-09-01 00:00:00  10.0   0.1  10.0  10.00    6.0  29.0  10.0  11.0   \n",
       "209925  2011-09-01 00:00:00  10.0  10.0  10.0   0.23    1.0  21.0  28.0  10.0   \n",
       "209926  2011-09-01 00:00:00  10.0  10.0  10.0  10.00    3.0  15.0  48.0  10.0   \n",
       "209927  2011-09-01 00:00:00  10.0  10.0  10.0  10.00    4.0  33.0  38.0  13.0   \n",
       "\n",
       "        PM25  SO_2    TCH   TOL   station  \n",
       "0       10.0   6.0  10.00  10.0  28079004  \n",
       "1       24.0   9.0   1.54   8.7  28079008  \n",
       "2       10.0  10.0  10.00   7.2  28079011  \n",
       "3       10.0  10.0  10.00  10.0  28079016  \n",
       "4       10.0   3.0  10.00  10.0  28079017  \n",
       "...      ...   ...    ...   ...       ...  \n",
       "209923  10.0  10.0  10.00  10.0  28079056  \n",
       "209924  10.0   7.0  10.00  10.0  28079057  \n",
       "209925  10.0  10.0   1.44  10.0  28079058  \n",
       "209926  10.0  10.0  10.00  10.0  28079059  \n",
       "209927  10.0  10.0  10.00  10.0  28079060  \n",
       "\n",
       "[209928 rows x 14 columns]"
      ]
     },
     "execution_count": 3,
     "metadata": {},
     "output_type": "execute_result"
    }
   ],
   "source": [
    "b=a.fillna(value=10)\n",
    "b"
   ]
  },
  {
   "cell_type": "code",
   "execution_count": 4,
   "id": "90138d58",
   "metadata": {},
   "outputs": [
    {
     "name": "stdout",
     "output_type": "stream",
     "text": [
      "<class 'pandas.core.frame.DataFrame'>\n",
      "RangeIndex: 209928 entries, 0 to 209927\n",
      "Data columns (total 14 columns):\n",
      " #   Column   Non-Null Count   Dtype  \n",
      "---  ------   --------------   -----  \n",
      " 0   date     209928 non-null  object \n",
      " 1   BEN      209928 non-null  float64\n",
      " 2   CO       209928 non-null  float64\n",
      " 3   EBE      209928 non-null  float64\n",
      " 4   NMHC     209928 non-null  float64\n",
      " 5   NO       209928 non-null  float64\n",
      " 6   NO_2     209928 non-null  float64\n",
      " 7   O_3      209928 non-null  float64\n",
      " 8   PM10     209928 non-null  float64\n",
      " 9   PM25     209928 non-null  float64\n",
      " 10  SO_2     209928 non-null  float64\n",
      " 11  TCH      209928 non-null  float64\n",
      " 12  TOL      209928 non-null  float64\n",
      " 13  station  209928 non-null  int64  \n",
      "dtypes: float64(12), int64(1), object(1)\n",
      "memory usage: 22.4+ MB\n"
     ]
    }
   ],
   "source": [
    "b.info()"
   ]
  },
  {
   "cell_type": "code",
   "execution_count": 5,
   "id": "b77c7a19",
   "metadata": {},
   "outputs": [
    {
     "data": {
      "text/html": [
       "<div>\n",
       "<style scoped>\n",
       "    .dataframe tbody tr th:only-of-type {\n",
       "        vertical-align: middle;\n",
       "    }\n",
       "\n",
       "    .dataframe tbody tr th {\n",
       "        vertical-align: top;\n",
       "    }\n",
       "\n",
       "    .dataframe thead th {\n",
       "        text-align: right;\n",
       "    }\n",
       "</style>\n",
       "<table border=\"1\" class=\"dataframe\">\n",
       "  <thead>\n",
       "    <tr style=\"text-align: right;\">\n",
       "      <th></th>\n",
       "      <th>BEN</th>\n",
       "      <th>CO</th>\n",
       "      <th>EBE</th>\n",
       "      <th>NMHC</th>\n",
       "      <th>NO</th>\n",
       "      <th>NO_2</th>\n",
       "      <th>O_3</th>\n",
       "      <th>PM10</th>\n",
       "      <th>PM25</th>\n",
       "      <th>SO_2</th>\n",
       "      <th>TCH</th>\n",
       "      <th>TOL</th>\n",
       "      <th>station</th>\n",
       "    </tr>\n",
       "  </thead>\n",
       "  <tbody>\n",
       "    <tr>\n",
       "      <th>count</th>\n",
       "      <td>209928.000000</td>\n",
       "      <td>209928.000000</td>\n",
       "      <td>209928.000000</td>\n",
       "      <td>209928.000000</td>\n",
       "      <td>209928.000000</td>\n",
       "      <td>209928.000000</td>\n",
       "      <td>209928.000000</td>\n",
       "      <td>209928.000000</td>\n",
       "      <td>209928.000000</td>\n",
       "      <td>209928.000000</td>\n",
       "      <td>209928.000000</td>\n",
       "      <td>209928.000000</td>\n",
       "      <td>2.099280e+05</td>\n",
       "    </tr>\n",
       "    <tr>\n",
       "      <th>mean</th>\n",
       "      <td>7.751473</td>\n",
       "      <td>6.002349</td>\n",
       "      <td>7.791255</td>\n",
       "      <td>7.967229</td>\n",
       "      <td>28.062540</td>\n",
       "      <td>44.723558</td>\n",
       "      <td>30.342403</td>\n",
       "      <td>16.566347</td>\n",
       "      <td>10.555186</td>\n",
       "      <td>8.724348</td>\n",
       "      <td>8.223972</td>\n",
       "      <td>8.429612</td>\n",
       "      <td>2.807904e+07</td>\n",
       "    </tr>\n",
       "    <tr>\n",
       "      <th>std</th>\n",
       "      <td>3.977993</td>\n",
       "      <td>4.749497</td>\n",
       "      <td>3.918473</td>\n",
       "      <td>3.975375</td>\n",
       "      <td>56.096613</td>\n",
       "      <td>32.506832</td>\n",
       "      <td>30.167305</td>\n",
       "      <td>14.264378</td>\n",
       "      <td>4.191522</td>\n",
       "      <td>3.331020</td>\n",
       "      <td>3.474348</td>\n",
       "      <td>3.359880</td>\n",
       "      <td>1.761618e+01</td>\n",
       "    </tr>\n",
       "    <tr>\n",
       "      <th>min</th>\n",
       "      <td>0.100000</td>\n",
       "      <td>0.100000</td>\n",
       "      <td>0.100000</td>\n",
       "      <td>0.000000</td>\n",
       "      <td>1.000000</td>\n",
       "      <td>1.000000</td>\n",
       "      <td>1.000000</td>\n",
       "      <td>1.000000</td>\n",
       "      <td>0.000000</td>\n",
       "      <td>1.000000</td>\n",
       "      <td>0.900000</td>\n",
       "      <td>0.100000</td>\n",
       "      <td>2.807900e+07</td>\n",
       "    </tr>\n",
       "    <tr>\n",
       "      <th>25%</th>\n",
       "      <td>10.000000</td>\n",
       "      <td>0.300000</td>\n",
       "      <td>10.000000</td>\n",
       "      <td>10.000000</td>\n",
       "      <td>3.000000</td>\n",
       "      <td>21.000000</td>\n",
       "      <td>10.000000</td>\n",
       "      <td>10.000000</td>\n",
       "      <td>10.000000</td>\n",
       "      <td>7.000000</td>\n",
       "      <td>10.000000</td>\n",
       "      <td>10.000000</td>\n",
       "      <td>2.807902e+07</td>\n",
       "    </tr>\n",
       "    <tr>\n",
       "      <th>50%</th>\n",
       "      <td>10.000000</td>\n",
       "      <td>10.000000</td>\n",
       "      <td>10.000000</td>\n",
       "      <td>10.000000</td>\n",
       "      <td>8.000000</td>\n",
       "      <td>37.000000</td>\n",
       "      <td>10.000000</td>\n",
       "      <td>10.000000</td>\n",
       "      <td>10.000000</td>\n",
       "      <td>10.000000</td>\n",
       "      <td>10.000000</td>\n",
       "      <td>10.000000</td>\n",
       "      <td>2.807904e+07</td>\n",
       "    </tr>\n",
       "    <tr>\n",
       "      <th>75%</th>\n",
       "      <td>10.000000</td>\n",
       "      <td>10.000000</td>\n",
       "      <td>10.000000</td>\n",
       "      <td>10.000000</td>\n",
       "      <td>25.000000</td>\n",
       "      <td>61.000000</td>\n",
       "      <td>49.000000</td>\n",
       "      <td>18.000000</td>\n",
       "      <td>10.000000</td>\n",
       "      <td>10.000000</td>\n",
       "      <td>10.000000</td>\n",
       "      <td>10.000000</td>\n",
       "      <td>2.807905e+07</td>\n",
       "    </tr>\n",
       "    <tr>\n",
       "      <th>max</th>\n",
       "      <td>11.300000</td>\n",
       "      <td>10.000000</td>\n",
       "      <td>15.000000</td>\n",
       "      <td>10.000000</td>\n",
       "      <td>1126.000000</td>\n",
       "      <td>408.000000</td>\n",
       "      <td>194.000000</td>\n",
       "      <td>281.000000</td>\n",
       "      <td>88.000000</td>\n",
       "      <td>81.000000</td>\n",
       "      <td>10.000000</td>\n",
       "      <td>55.200001</td>\n",
       "      <td>2.807906e+07</td>\n",
       "    </tr>\n",
       "  </tbody>\n",
       "</table>\n",
       "</div>"
      ],
      "text/plain": [
       "                 BEN             CO            EBE           NMHC  \\\n",
       "count  209928.000000  209928.000000  209928.000000  209928.000000   \n",
       "mean        7.751473       6.002349       7.791255       7.967229   \n",
       "std         3.977993       4.749497       3.918473       3.975375   \n",
       "min         0.100000       0.100000       0.100000       0.000000   \n",
       "25%        10.000000       0.300000      10.000000      10.000000   \n",
       "50%        10.000000      10.000000      10.000000      10.000000   \n",
       "75%        10.000000      10.000000      10.000000      10.000000   \n",
       "max        11.300000      10.000000      15.000000      10.000000   \n",
       "\n",
       "                  NO           NO_2            O_3           PM10  \\\n",
       "count  209928.000000  209928.000000  209928.000000  209928.000000   \n",
       "mean       28.062540      44.723558      30.342403      16.566347   \n",
       "std        56.096613      32.506832      30.167305      14.264378   \n",
       "min         1.000000       1.000000       1.000000       1.000000   \n",
       "25%         3.000000      21.000000      10.000000      10.000000   \n",
       "50%         8.000000      37.000000      10.000000      10.000000   \n",
       "75%        25.000000      61.000000      49.000000      18.000000   \n",
       "max      1126.000000     408.000000     194.000000     281.000000   \n",
       "\n",
       "                PM25           SO_2            TCH            TOL  \\\n",
       "count  209928.000000  209928.000000  209928.000000  209928.000000   \n",
       "mean       10.555186       8.724348       8.223972       8.429612   \n",
       "std         4.191522       3.331020       3.474348       3.359880   \n",
       "min         0.000000       1.000000       0.900000       0.100000   \n",
       "25%        10.000000       7.000000      10.000000      10.000000   \n",
       "50%        10.000000      10.000000      10.000000      10.000000   \n",
       "75%        10.000000      10.000000      10.000000      10.000000   \n",
       "max        88.000000      81.000000      10.000000      55.200001   \n",
       "\n",
       "            station  \n",
       "count  2.099280e+05  \n",
       "mean   2.807904e+07  \n",
       "std    1.761618e+01  \n",
       "min    2.807900e+07  \n",
       "25%    2.807902e+07  \n",
       "50%    2.807904e+07  \n",
       "75%    2.807905e+07  \n",
       "max    2.807906e+07  "
      ]
     },
     "execution_count": 5,
     "metadata": {},
     "output_type": "execute_result"
    }
   ],
   "source": [
    "b.describe()"
   ]
  },
  {
   "cell_type": "code",
   "execution_count": 6,
   "id": "6bab22b6",
   "metadata": {},
   "outputs": [
    {
     "data": {
      "text/html": [
       "<div>\n",
       "<style scoped>\n",
       "    .dataframe tbody tr th:only-of-type {\n",
       "        vertical-align: middle;\n",
       "    }\n",
       "\n",
       "    .dataframe tbody tr th {\n",
       "        vertical-align: top;\n",
       "    }\n",
       "\n",
       "    .dataframe thead th {\n",
       "        text-align: right;\n",
       "    }\n",
       "</style>\n",
       "<table border=\"1\" class=\"dataframe\">\n",
       "  <thead>\n",
       "    <tr style=\"text-align: right;\">\n",
       "      <th></th>\n",
       "      <th>date</th>\n",
       "      <th>BEN</th>\n",
       "      <th>CO</th>\n",
       "      <th>EBE</th>\n",
       "      <th>NMHC</th>\n",
       "      <th>NO</th>\n",
       "      <th>NO_2</th>\n",
       "      <th>O_3</th>\n",
       "      <th>PM10</th>\n",
       "      <th>PM25</th>\n",
       "      <th>SO_2</th>\n",
       "      <th>TCH</th>\n",
       "      <th>TOL</th>\n",
       "      <th>station</th>\n",
       "    </tr>\n",
       "  </thead>\n",
       "  <tbody>\n",
       "    <tr>\n",
       "      <th>0</th>\n",
       "      <td>2011-11-01 01:00:00</td>\n",
       "      <td>10.0</td>\n",
       "      <td>1.0</td>\n",
       "      <td>10.0</td>\n",
       "      <td>10.00</td>\n",
       "      <td>154.0</td>\n",
       "      <td>84.0</td>\n",
       "      <td>10.0</td>\n",
       "      <td>10.0</td>\n",
       "      <td>10.0</td>\n",
       "      <td>6.0</td>\n",
       "      <td>10.00</td>\n",
       "      <td>10.0</td>\n",
       "      <td>28079004</td>\n",
       "    </tr>\n",
       "    <tr>\n",
       "      <th>1</th>\n",
       "      <td>2011-11-01 01:00:00</td>\n",
       "      <td>2.5</td>\n",
       "      <td>0.4</td>\n",
       "      <td>3.5</td>\n",
       "      <td>0.26</td>\n",
       "      <td>68.0</td>\n",
       "      <td>92.0</td>\n",
       "      <td>3.0</td>\n",
       "      <td>40.0</td>\n",
       "      <td>24.0</td>\n",
       "      <td>9.0</td>\n",
       "      <td>1.54</td>\n",
       "      <td>8.7</td>\n",
       "      <td>28079008</td>\n",
       "    </tr>\n",
       "    <tr>\n",
       "      <th>2</th>\n",
       "      <td>2011-11-01 01:00:00</td>\n",
       "      <td>2.9</td>\n",
       "      <td>10.0</td>\n",
       "      <td>3.8</td>\n",
       "      <td>10.00</td>\n",
       "      <td>96.0</td>\n",
       "      <td>99.0</td>\n",
       "      <td>10.0</td>\n",
       "      <td>10.0</td>\n",
       "      <td>10.0</td>\n",
       "      <td>10.0</td>\n",
       "      <td>10.00</td>\n",
       "      <td>7.2</td>\n",
       "      <td>28079011</td>\n",
       "    </tr>\n",
       "    <tr>\n",
       "      <th>3</th>\n",
       "      <td>2011-11-01 01:00:00</td>\n",
       "      <td>10.0</td>\n",
       "      <td>0.6</td>\n",
       "      <td>10.0</td>\n",
       "      <td>10.00</td>\n",
       "      <td>60.0</td>\n",
       "      <td>83.0</td>\n",
       "      <td>2.0</td>\n",
       "      <td>10.0</td>\n",
       "      <td>10.0</td>\n",
       "      <td>10.0</td>\n",
       "      <td>10.00</td>\n",
       "      <td>10.0</td>\n",
       "      <td>28079016</td>\n",
       "    </tr>\n",
       "    <tr>\n",
       "      <th>4</th>\n",
       "      <td>2011-11-01 01:00:00</td>\n",
       "      <td>10.0</td>\n",
       "      <td>10.0</td>\n",
       "      <td>10.0</td>\n",
       "      <td>10.00</td>\n",
       "      <td>44.0</td>\n",
       "      <td>62.0</td>\n",
       "      <td>3.0</td>\n",
       "      <td>10.0</td>\n",
       "      <td>10.0</td>\n",
       "      <td>3.0</td>\n",
       "      <td>10.00</td>\n",
       "      <td>10.0</td>\n",
       "      <td>28079017</td>\n",
       "    </tr>\n",
       "    <tr>\n",
       "      <th>...</th>\n",
       "      <td>...</td>\n",
       "      <td>...</td>\n",
       "      <td>...</td>\n",
       "      <td>...</td>\n",
       "      <td>...</td>\n",
       "      <td>...</td>\n",
       "      <td>...</td>\n",
       "      <td>...</td>\n",
       "      <td>...</td>\n",
       "      <td>...</td>\n",
       "      <td>...</td>\n",
       "      <td>...</td>\n",
       "      <td>...</td>\n",
       "      <td>...</td>\n",
       "    </tr>\n",
       "    <tr>\n",
       "      <th>95</th>\n",
       "      <td>2011-11-01 04:00:00</td>\n",
       "      <td>10.0</td>\n",
       "      <td>10.0</td>\n",
       "      <td>10.0</td>\n",
       "      <td>10.00</td>\n",
       "      <td>8.0</td>\n",
       "      <td>55.0</td>\n",
       "      <td>10.0</td>\n",
       "      <td>31.0</td>\n",
       "      <td>10.0</td>\n",
       "      <td>10.0</td>\n",
       "      <td>10.00</td>\n",
       "      <td>10.0</td>\n",
       "      <td>28079060</td>\n",
       "    </tr>\n",
       "    <tr>\n",
       "      <th>96</th>\n",
       "      <td>2011-11-01 05:00:00</td>\n",
       "      <td>10.0</td>\n",
       "      <td>0.5</td>\n",
       "      <td>10.0</td>\n",
       "      <td>10.00</td>\n",
       "      <td>63.0</td>\n",
       "      <td>56.0</td>\n",
       "      <td>10.0</td>\n",
       "      <td>10.0</td>\n",
       "      <td>10.0</td>\n",
       "      <td>4.0</td>\n",
       "      <td>10.00</td>\n",
       "      <td>10.0</td>\n",
       "      <td>28079004</td>\n",
       "    </tr>\n",
       "    <tr>\n",
       "      <th>97</th>\n",
       "      <td>2011-11-01 05:00:00</td>\n",
       "      <td>0.8</td>\n",
       "      <td>0.2</td>\n",
       "      <td>1.8</td>\n",
       "      <td>0.17</td>\n",
       "      <td>17.0</td>\n",
       "      <td>58.0</td>\n",
       "      <td>5.0</td>\n",
       "      <td>27.0</td>\n",
       "      <td>16.0</td>\n",
       "      <td>7.0</td>\n",
       "      <td>1.77</td>\n",
       "      <td>5.3</td>\n",
       "      <td>28079008</td>\n",
       "    </tr>\n",
       "    <tr>\n",
       "      <th>98</th>\n",
       "      <td>2011-11-01 05:00:00</td>\n",
       "      <td>1.7</td>\n",
       "      <td>10.0</td>\n",
       "      <td>2.8</td>\n",
       "      <td>10.00</td>\n",
       "      <td>14.0</td>\n",
       "      <td>47.0</td>\n",
       "      <td>10.0</td>\n",
       "      <td>10.0</td>\n",
       "      <td>10.0</td>\n",
       "      <td>10.0</td>\n",
       "      <td>10.00</td>\n",
       "      <td>5.5</td>\n",
       "      <td>28079011</td>\n",
       "    </tr>\n",
       "    <tr>\n",
       "      <th>99</th>\n",
       "      <td>2011-11-01 05:00:00</td>\n",
       "      <td>10.0</td>\n",
       "      <td>0.3</td>\n",
       "      <td>10.0</td>\n",
       "      <td>10.00</td>\n",
       "      <td>5.0</td>\n",
       "      <td>44.0</td>\n",
       "      <td>9.0</td>\n",
       "      <td>10.0</td>\n",
       "      <td>10.0</td>\n",
       "      <td>10.0</td>\n",
       "      <td>10.00</td>\n",
       "      <td>10.0</td>\n",
       "      <td>28079016</td>\n",
       "    </tr>\n",
       "  </tbody>\n",
       "</table>\n",
       "<p>100 rows × 14 columns</p>\n",
       "</div>"
      ],
      "text/plain": [
       "                   date   BEN    CO   EBE   NMHC     NO  NO_2   O_3  PM10  \\\n",
       "0   2011-11-01 01:00:00  10.0   1.0  10.0  10.00  154.0  84.0  10.0  10.0   \n",
       "1   2011-11-01 01:00:00   2.5   0.4   3.5   0.26   68.0  92.0   3.0  40.0   \n",
       "2   2011-11-01 01:00:00   2.9  10.0   3.8  10.00   96.0  99.0  10.0  10.0   \n",
       "3   2011-11-01 01:00:00  10.0   0.6  10.0  10.00   60.0  83.0   2.0  10.0   \n",
       "4   2011-11-01 01:00:00  10.0  10.0  10.0  10.00   44.0  62.0   3.0  10.0   \n",
       "..                  ...   ...   ...   ...    ...    ...   ...   ...   ...   \n",
       "95  2011-11-01 04:00:00  10.0  10.0  10.0  10.00    8.0  55.0  10.0  31.0   \n",
       "96  2011-11-01 05:00:00  10.0   0.5  10.0  10.00   63.0  56.0  10.0  10.0   \n",
       "97  2011-11-01 05:00:00   0.8   0.2   1.8   0.17   17.0  58.0   5.0  27.0   \n",
       "98  2011-11-01 05:00:00   1.7  10.0   2.8  10.00   14.0  47.0  10.0  10.0   \n",
       "99  2011-11-01 05:00:00  10.0   0.3  10.0  10.00    5.0  44.0   9.0  10.0   \n",
       "\n",
       "    PM25  SO_2    TCH   TOL   station  \n",
       "0   10.0   6.0  10.00  10.0  28079004  \n",
       "1   24.0   9.0   1.54   8.7  28079008  \n",
       "2   10.0  10.0  10.00   7.2  28079011  \n",
       "3   10.0  10.0  10.00  10.0  28079016  \n",
       "4   10.0   3.0  10.00  10.0  28079017  \n",
       "..   ...   ...    ...   ...       ...  \n",
       "95  10.0  10.0  10.00  10.0  28079060  \n",
       "96  10.0   4.0  10.00  10.0  28079004  \n",
       "97  16.0   7.0   1.77   5.3  28079008  \n",
       "98  10.0  10.0  10.00   5.5  28079011  \n",
       "99  10.0  10.0  10.00  10.0  28079016  \n",
       "\n",
       "[100 rows x 14 columns]"
      ]
     },
     "execution_count": 6,
     "metadata": {},
     "output_type": "execute_result"
    }
   ],
   "source": [
    "c=b.head(100)\n",
    "c"
   ]
  },
  {
   "cell_type": "code",
   "execution_count": 7,
   "id": "4825bf2c",
   "metadata": {},
   "outputs": [
    {
     "data": {
      "text/plain": [
       "Index(['date', 'BEN', 'CO', 'EBE', 'NMHC', 'NO', 'NO_2', 'O_3', 'PM10', 'PM25',\n",
       "       'SO_2', 'TCH', 'TOL', 'station'],\n",
       "      dtype='object')"
      ]
     },
     "execution_count": 7,
     "metadata": {},
     "output_type": "execute_result"
    }
   ],
   "source": [
    "c.columns"
   ]
  },
  {
   "cell_type": "code",
   "execution_count": 8,
   "id": "f6ac7bcc",
   "metadata": {},
   "outputs": [
    {
     "data": {
      "text/html": [
       "<div>\n",
       "<style scoped>\n",
       "    .dataframe tbody tr th:only-of-type {\n",
       "        vertical-align: middle;\n",
       "    }\n",
       "\n",
       "    .dataframe tbody tr th {\n",
       "        vertical-align: top;\n",
       "    }\n",
       "\n",
       "    .dataframe thead th {\n",
       "        text-align: right;\n",
       "    }\n",
       "</style>\n",
       "<table border=\"1\" class=\"dataframe\">\n",
       "  <thead>\n",
       "    <tr style=\"text-align: right;\">\n",
       "      <th></th>\n",
       "      <th>BEN</th>\n",
       "      <th>CO</th>\n",
       "      <th>EBE</th>\n",
       "      <th>NMHC</th>\n",
       "      <th>NO_2</th>\n",
       "      <th>O_3</th>\n",
       "      <th>PM10</th>\n",
       "      <th>SO_2</th>\n",
       "      <th>TCH</th>\n",
       "      <th>TOL</th>\n",
       "      <th>station</th>\n",
       "    </tr>\n",
       "  </thead>\n",
       "  <tbody>\n",
       "    <tr>\n",
       "      <th>0</th>\n",
       "      <td>10.0</td>\n",
       "      <td>1.0</td>\n",
       "      <td>10.0</td>\n",
       "      <td>10.00</td>\n",
       "      <td>84.0</td>\n",
       "      <td>10.0</td>\n",
       "      <td>10.0</td>\n",
       "      <td>6.0</td>\n",
       "      <td>10.00</td>\n",
       "      <td>10.0</td>\n",
       "      <td>28079004</td>\n",
       "    </tr>\n",
       "    <tr>\n",
       "      <th>1</th>\n",
       "      <td>2.5</td>\n",
       "      <td>0.4</td>\n",
       "      <td>3.5</td>\n",
       "      <td>0.26</td>\n",
       "      <td>92.0</td>\n",
       "      <td>3.0</td>\n",
       "      <td>40.0</td>\n",
       "      <td>9.0</td>\n",
       "      <td>1.54</td>\n",
       "      <td>8.7</td>\n",
       "      <td>28079008</td>\n",
       "    </tr>\n",
       "    <tr>\n",
       "      <th>2</th>\n",
       "      <td>2.9</td>\n",
       "      <td>10.0</td>\n",
       "      <td>3.8</td>\n",
       "      <td>10.00</td>\n",
       "      <td>99.0</td>\n",
       "      <td>10.0</td>\n",
       "      <td>10.0</td>\n",
       "      <td>10.0</td>\n",
       "      <td>10.00</td>\n",
       "      <td>7.2</td>\n",
       "      <td>28079011</td>\n",
       "    </tr>\n",
       "    <tr>\n",
       "      <th>3</th>\n",
       "      <td>10.0</td>\n",
       "      <td>0.6</td>\n",
       "      <td>10.0</td>\n",
       "      <td>10.00</td>\n",
       "      <td>83.0</td>\n",
       "      <td>2.0</td>\n",
       "      <td>10.0</td>\n",
       "      <td>10.0</td>\n",
       "      <td>10.00</td>\n",
       "      <td>10.0</td>\n",
       "      <td>28079016</td>\n",
       "    </tr>\n",
       "    <tr>\n",
       "      <th>4</th>\n",
       "      <td>10.0</td>\n",
       "      <td>10.0</td>\n",
       "      <td>10.0</td>\n",
       "      <td>10.00</td>\n",
       "      <td>62.0</td>\n",
       "      <td>3.0</td>\n",
       "      <td>10.0</td>\n",
       "      <td>3.0</td>\n",
       "      <td>10.00</td>\n",
       "      <td>10.0</td>\n",
       "      <td>28079017</td>\n",
       "    </tr>\n",
       "    <tr>\n",
       "      <th>...</th>\n",
       "      <td>...</td>\n",
       "      <td>...</td>\n",
       "      <td>...</td>\n",
       "      <td>...</td>\n",
       "      <td>...</td>\n",
       "      <td>...</td>\n",
       "      <td>...</td>\n",
       "      <td>...</td>\n",
       "      <td>...</td>\n",
       "      <td>...</td>\n",
       "      <td>...</td>\n",
       "    </tr>\n",
       "    <tr>\n",
       "      <th>95</th>\n",
       "      <td>10.0</td>\n",
       "      <td>10.0</td>\n",
       "      <td>10.0</td>\n",
       "      <td>10.00</td>\n",
       "      <td>55.0</td>\n",
       "      <td>10.0</td>\n",
       "      <td>31.0</td>\n",
       "      <td>10.0</td>\n",
       "      <td>10.00</td>\n",
       "      <td>10.0</td>\n",
       "      <td>28079060</td>\n",
       "    </tr>\n",
       "    <tr>\n",
       "      <th>96</th>\n",
       "      <td>10.0</td>\n",
       "      <td>0.5</td>\n",
       "      <td>10.0</td>\n",
       "      <td>10.00</td>\n",
       "      <td>56.0</td>\n",
       "      <td>10.0</td>\n",
       "      <td>10.0</td>\n",
       "      <td>4.0</td>\n",
       "      <td>10.00</td>\n",
       "      <td>10.0</td>\n",
       "      <td>28079004</td>\n",
       "    </tr>\n",
       "    <tr>\n",
       "      <th>97</th>\n",
       "      <td>0.8</td>\n",
       "      <td>0.2</td>\n",
       "      <td>1.8</td>\n",
       "      <td>0.17</td>\n",
       "      <td>58.0</td>\n",
       "      <td>5.0</td>\n",
       "      <td>27.0</td>\n",
       "      <td>7.0</td>\n",
       "      <td>1.77</td>\n",
       "      <td>5.3</td>\n",
       "      <td>28079008</td>\n",
       "    </tr>\n",
       "    <tr>\n",
       "      <th>98</th>\n",
       "      <td>1.7</td>\n",
       "      <td>10.0</td>\n",
       "      <td>2.8</td>\n",
       "      <td>10.00</td>\n",
       "      <td>47.0</td>\n",
       "      <td>10.0</td>\n",
       "      <td>10.0</td>\n",
       "      <td>10.0</td>\n",
       "      <td>10.00</td>\n",
       "      <td>5.5</td>\n",
       "      <td>28079011</td>\n",
       "    </tr>\n",
       "    <tr>\n",
       "      <th>99</th>\n",
       "      <td>10.0</td>\n",
       "      <td>0.3</td>\n",
       "      <td>10.0</td>\n",
       "      <td>10.00</td>\n",
       "      <td>44.0</td>\n",
       "      <td>9.0</td>\n",
       "      <td>10.0</td>\n",
       "      <td>10.0</td>\n",
       "      <td>10.00</td>\n",
       "      <td>10.0</td>\n",
       "      <td>28079016</td>\n",
       "    </tr>\n",
       "  </tbody>\n",
       "</table>\n",
       "<p>100 rows × 11 columns</p>\n",
       "</div>"
      ],
      "text/plain": [
       "     BEN    CO   EBE   NMHC  NO_2   O_3  PM10  SO_2    TCH   TOL   station\n",
       "0   10.0   1.0  10.0  10.00  84.0  10.0  10.0   6.0  10.00  10.0  28079004\n",
       "1    2.5   0.4   3.5   0.26  92.0   3.0  40.0   9.0   1.54   8.7  28079008\n",
       "2    2.9  10.0   3.8  10.00  99.0  10.0  10.0  10.0  10.00   7.2  28079011\n",
       "3   10.0   0.6  10.0  10.00  83.0   2.0  10.0  10.0  10.00  10.0  28079016\n",
       "4   10.0  10.0  10.0  10.00  62.0   3.0  10.0   3.0  10.00  10.0  28079017\n",
       "..   ...   ...   ...    ...   ...   ...   ...   ...    ...   ...       ...\n",
       "95  10.0  10.0  10.0  10.00  55.0  10.0  31.0  10.0  10.00  10.0  28079060\n",
       "96  10.0   0.5  10.0  10.00  56.0  10.0  10.0   4.0  10.00  10.0  28079004\n",
       "97   0.8   0.2   1.8   0.17  58.0   5.0  27.0   7.0   1.77   5.3  28079008\n",
       "98   1.7  10.0   2.8  10.00  47.0  10.0  10.0  10.0  10.00   5.5  28079011\n",
       "99  10.0   0.3  10.0  10.00  44.0   9.0  10.0  10.0  10.00  10.0  28079016\n",
       "\n",
       "[100 rows x 11 columns]"
      ]
     },
     "execution_count": 8,
     "metadata": {},
     "output_type": "execute_result"
    }
   ],
   "source": [
    "d=c[['BEN', 'CO', 'EBE','NMHC', 'NO_2','O_3',\n",
    "       'PM10','SO_2', 'TCH', 'TOL', 'station']]\n",
    "d"
   ]
  },
  {
   "cell_type": "markdown",
   "id": "4f28d359",
   "metadata": {},
   "source": [
    "# LINEAR REGRESSION"
   ]
  },
  {
   "cell_type": "code",
   "execution_count": 9,
   "id": "adfc1609",
   "metadata": {},
   "outputs": [],
   "source": [
    "x=d[['BEN', 'CO', 'EBE','NMHC', 'NO_2','O_3',\n",
    "       'PM10','SO_2', 'TCH', 'TOL']]\n",
    "y=d['station']"
   ]
  },
  {
   "cell_type": "code",
   "execution_count": 10,
   "id": "c459d3b7",
   "metadata": {},
   "outputs": [],
   "source": [
    "from sklearn.model_selection import train_test_split\n",
    "x_train,x_test,y_train,y_test=train_test_split(x,y,test_size=0.3)"
   ]
  },
  {
   "cell_type": "code",
   "execution_count": 11,
   "id": "a827be27",
   "metadata": {},
   "outputs": [
    {
     "data": {
      "text/plain": [
       "LinearRegression()"
      ]
     },
     "execution_count": 11,
     "metadata": {},
     "output_type": "execute_result"
    }
   ],
   "source": [
    "from sklearn.linear_model import LinearRegression\n",
    "\n",
    "lr=LinearRegression()\n",
    "lr.fit(x_train,y_train)"
   ]
  },
  {
   "cell_type": "code",
   "execution_count": 12,
   "id": "3c4cbf0b",
   "metadata": {},
   "outputs": [
    {
     "name": "stdout",
     "output_type": "stream",
     "text": [
      "28079029.927675273\n"
     ]
    }
   ],
   "source": [
    "print(lr.intercept_)\n"
   ]
  },
  {
   "cell_type": "code",
   "execution_count": 13,
   "id": "0c05401e",
   "metadata": {},
   "outputs": [
    {
     "data": {
      "text/html": [
       "<div>\n",
       "<style scoped>\n",
       "    .dataframe tbody tr th:only-of-type {\n",
       "        vertical-align: middle;\n",
       "    }\n",
       "\n",
       "    .dataframe tbody tr th {\n",
       "        vertical-align: top;\n",
       "    }\n",
       "\n",
       "    .dataframe thead th {\n",
       "        text-align: right;\n",
       "    }\n",
       "</style>\n",
       "<table border=\"1\" class=\"dataframe\">\n",
       "  <thead>\n",
       "    <tr style=\"text-align: right;\">\n",
       "      <th></th>\n",
       "      <th>Co-efficient</th>\n",
       "    </tr>\n",
       "  </thead>\n",
       "  <tbody>\n",
       "    <tr>\n",
       "      <th>BEN</th>\n",
       "      <td>12.977238</td>\n",
       "    </tr>\n",
       "    <tr>\n",
       "      <th>CO</th>\n",
       "      <td>1.160876</td>\n",
       "    </tr>\n",
       "    <tr>\n",
       "      <th>EBE</th>\n",
       "      <td>-11.185800</td>\n",
       "    </tr>\n",
       "    <tr>\n",
       "      <th>NMHC</th>\n",
       "      <td>13.935780</td>\n",
       "    </tr>\n",
       "    <tr>\n",
       "      <th>NO_2</th>\n",
       "      <td>-0.145668</td>\n",
       "    </tr>\n",
       "    <tr>\n",
       "      <th>O_3</th>\n",
       "      <td>0.101660</td>\n",
       "    </tr>\n",
       "    <tr>\n",
       "      <th>PM10</th>\n",
       "      <td>0.507632</td>\n",
       "    </tr>\n",
       "    <tr>\n",
       "      <th>SO_2</th>\n",
       "      <td>1.405271</td>\n",
       "    </tr>\n",
       "    <tr>\n",
       "      <th>TCH</th>\n",
       "      <td>-16.537240</td>\n",
       "    </tr>\n",
       "    <tr>\n",
       "      <th>TOL</th>\n",
       "      <td>0.064456</td>\n",
       "    </tr>\n",
       "  </tbody>\n",
       "</table>\n",
       "</div>"
      ],
      "text/plain": [
       "      Co-efficient\n",
       "BEN      12.977238\n",
       "CO        1.160876\n",
       "EBE     -11.185800\n",
       "NMHC     13.935780\n",
       "NO_2     -0.145668\n",
       "O_3       0.101660\n",
       "PM10      0.507632\n",
       "SO_2      1.405271\n",
       "TCH     -16.537240\n",
       "TOL       0.064456"
      ]
     },
     "execution_count": 13,
     "metadata": {},
     "output_type": "execute_result"
    }
   ],
   "source": [
    "coeff=pd.DataFrame(lr.coef_,x.columns,columns=['Co-efficient'])\n",
    "coeff"
   ]
  },
  {
   "cell_type": "code",
   "execution_count": 14,
   "id": "fccad63a",
   "metadata": {},
   "outputs": [
    {
     "data": {
      "text/plain": [
       "<matplotlib.collections.PathCollection at 0x112350f9970>"
      ]
     },
     "execution_count": 14,
     "metadata": {},
     "output_type": "execute_result"
    },
    {
     "data": {
      "image/png": "[encoded data removed]",
      "text/plain": [
       "<Figure size 432x288 with 1 Axes>"
      ]
     },
     "metadata": {
      "needs_background": "light"
     },
     "output_type": "display_data"
    }
   ],
   "source": [
    "prediction=lr.predict(x_test)\n",
    "plt.scatter(y_test,prediction)"
   ]
  },
  {
   "cell_type": "code",
   "execution_count": 15,
   "id": "0dc08bb6",
   "metadata": {},
   "outputs": [
    {
     "name": "stdout",
     "output_type": "stream",
     "text": [
      "0.19804034818408445\n"
     ]
    }
   ],
   "source": [
    "print(lr.score(x_test,y_test))"
   ]
  },
  {
   "cell_type": "code",
   "execution_count": 16,
   "id": "e929bc8f",
   "metadata": {},
   "outputs": [
    {
     "data": {
      "text/plain": [
       "0.4935748717988604"
      ]
     },
     "execution_count": 16,
     "metadata": {},
     "output_type": "execute_result"
    }
   ],
   "source": [
    "lr.score(x_train,y_train)"
   ]
  },
  {
   "cell_type": "markdown",
   "id": "1aa89905",
   "metadata": {},
   "source": [
    "# LASSO REGRESSION"
   ]
  },
  {
   "cell_type": "code",
   "execution_count": 17,
   "id": "77b07746",
   "metadata": {},
   "outputs": [],
   "source": [
    "from sklearn.linear_model import Ridge,Lasso"
   ]
  },
  {
   "cell_type": "code",
   "execution_count": 18,
   "id": "5ca7972e",
   "metadata": {},
   "outputs": [
    {
     "data": {
      "text/plain": [
       "Lasso(alpha=10)"
      ]
     },
     "execution_count": 18,
     "metadata": {},
     "output_type": "execute_result"
    }
   ],
   "source": [
    "la=Lasso(alpha=10)\n",
    "la.fit(x_train,y_train)"
   ]
  },
  {
   "cell_type": "code",
   "execution_count": 19,
   "id": "e8075072",
   "metadata": {},
   "outputs": [
    {
     "data": {
      "text/plain": [
       "0.08763868459765223"
      ]
     },
     "execution_count": 19,
     "metadata": {},
     "output_type": "execute_result"
    }
   ],
   "source": [
    "la.score(x_test,y_test)"
   ]
  },
  {
   "cell_type": "markdown",
   "id": "16a3642f",
   "metadata": {},
   "source": [
    "# RIDGE REGRESSION"
   ]
  },
  {
   "cell_type": "code",
   "execution_count": 20,
   "id": "48705cdb",
   "metadata": {},
   "outputs": [
    {
     "data": {
      "text/plain": [
       "Ridge(alpha=10)"
      ]
     },
     "execution_count": 20,
     "metadata": {},
     "output_type": "execute_result"
    }
   ],
   "source": [
    "rr=Ridge(alpha=10)\n",
    "rr.fit(x_train,y_train)"
   ]
  },
  {
   "cell_type": "code",
   "execution_count": 21,
   "id": "5b11eeb0",
   "metadata": {},
   "outputs": [
    {
     "data": {
      "text/plain": [
       "0.22271375800255722"
      ]
     },
     "execution_count": 21,
     "metadata": {},
     "output_type": "execute_result"
    }
   ],
   "source": [
    "rr.score(x_test,y_test)"
   ]
  },
  {
   "cell_type": "markdown",
   "id": "ca442962",
   "metadata": {},
   "source": [
    "# LOGISTIC REGRESSION"
   ]
  },
  {
   "cell_type": "code",
   "execution_count": 29,
   "id": "dee1c242",
   "metadata": {},
   "outputs": [],
   "source": [
    "w=d.iloc[:,0:11]\n",
    "w1=d.iloc[:,-1]"
   ]
  },
  {
   "cell_type": "code",
   "execution_count": 30,
   "id": "52ff8cb7",
   "metadata": {},
   "outputs": [],
   "source": [
    "from sklearn.preprocessing import StandardScaler"
   ]
  },
  {
   "cell_type": "code",
   "execution_count": 31,
   "id": "78f02960",
   "metadata": {},
   "outputs": [],
   "source": [
    "b=StandardScaler().fit_transform(w)\n"
   ]
  },
  {
   "cell_type": "code",
   "execution_count": 32,
   "id": "ba7aa8d6",
   "metadata": {},
   "outputs": [],
   "source": [
    "from sklearn.model_selection import train_test_split\n",
    "w_train,w_test,w1_train,w1_test=train_test_split(w,w1,test_size=0.7)"
   ]
  },
  {
   "cell_type": "code",
   "execution_count": 33,
   "id": "81ca7910",
   "metadata": {},
   "outputs": [
    {
     "data": {
      "text/plain": [
       "LogisticRegression(max_iter=10000)"
      ]
     },
     "execution_count": 33,
     "metadata": {},
     "output_type": "execute_result"
    }
   ],
   "source": [
    "p=LogisticRegression(max_iter=10000)\n",
    "p.fit(b,w1)"
   ]
  },
  {
   "cell_type": "code",
   "execution_count": 34,
   "id": "74c37972",
   "metadata": {},
   "outputs": [],
   "source": [
    "t=[[12,22,32,42,52,45,32,56,87,34,69]]\n"
   ]
  },
  {
   "cell_type": "code",
   "execution_count": 35,
   "id": "e55e8bd0",
   "metadata": {},
   "outputs": [
    {
     "name": "stdout",
     "output_type": "stream",
     "text": [
      "[28079050]\n"
     ]
    }
   ],
   "source": [
    "e=p.predict(t)\n",
    "print(e)"
   ]
  },
  {
   "cell_type": "code",
   "execution_count": 36,
   "id": "d1e88b67",
   "metadata": {},
   "outputs": [
    {
     "data": {
      "text/plain": [
       "array([28079004, 28079008, 28079011, 28079016, 28079017, 28079018,\n",
       "       28079024, 28079027, 28079035, 28079036, 28079038, 28079039,\n",
       "       28079040, 28079047, 28079048, 28079049, 28079050, 28079054,\n",
       "       28079055, 28079056, 28079057, 28079058, 28079059, 28079060],\n",
       "      dtype=int64)"
      ]
     },
     "execution_count": 36,
     "metadata": {},
     "output_type": "execute_result"
    }
   ],
   "source": [
    "p.classes_"
   ]
  },
  {
   "cell_type": "code",
   "execution_count": 37,
   "id": "33012910",
   "metadata": {},
   "outputs": [
    {
     "name": "stdout",
     "output_type": "stream",
     "text": [
      "0.02857142857142857\n"
     ]
    }
   ],
   "source": [
    "print(p.score(w_test,w1_test))"
   ]
  },
  {
   "cell_type": "code",
   "execution_count": 38,
   "id": "d2b46160",
   "metadata": {},
   "outputs": [
    {
     "data": {
      "text/plain": [
       "6.144384313308972e-110"
      ]
     },
     "execution_count": 38,
     "metadata": {},
     "output_type": "execute_result"
    }
   ],
   "source": [
    "p.predict_proba(t)[0][0]"
   ]
  },
  {
   "cell_type": "code",
   "execution_count": 39,
   "id": "ea0ccf03",
   "metadata": {},
   "outputs": [
    {
     "data": {
      "text/plain": [
       "1.1752521646369903e-137"
      ]
     },
     "execution_count": 39,
     "metadata": {},
     "output_type": "execute_result"
    }
   ],
   "source": [
    "p.predict_proba(t)[0][1]"
   ]
  },
  {
   "cell_type": "markdown",
   "id": "0135145d",
   "metadata": {},
   "source": [
    "# ELASTIC NET"
   ]
  },
  {
   "cell_type": "code",
   "execution_count": 40,
   "id": "217ac252",
   "metadata": {},
   "outputs": [
    {
     "data": {
      "text/plain": [
       "ElasticNet()"
      ]
     },
     "execution_count": 40,
     "metadata": {},
     "output_type": "execute_result"
    }
   ],
   "source": [
    "from sklearn.linear_model import ElasticNet \n",
    "p=ElasticNet()\n",
    "p.fit(x_train,y_train)"
   ]
  },
  {
   "cell_type": "code",
   "execution_count": 41,
   "id": "bf8736d8",
   "metadata": {},
   "outputs": [
    {
     "name": "stdout",
     "output_type": "stream",
     "text": [
      "[ 2.11473344  1.10180062  0.13987046 -0.03267903 -0.18059778  0.\n",
      "  0.52011842  1.19274534 -0.          0.        ]\n"
     ]
    }
   ],
   "source": [
    "print(p.coef_)"
   ]
  },
  {
   "cell_type": "code",
   "execution_count": 42,
   "id": "4a8404df",
   "metadata": {},
   "outputs": [
    {
     "name": "stdout",
     "output_type": "stream",
     "text": [
      "28079005.19839625\n"
     ]
    }
   ],
   "source": [
    "print(p.intercept_)"
   ]
  },
  {
   "cell_type": "code",
   "execution_count": 43,
   "id": "fffad90c",
   "metadata": {},
   "outputs": [
    {
     "name": "stdout",
     "output_type": "stream",
     "text": [
      "[28079029.38001288 28079026.49765465 28079025.18613232 28079041.97608826\n",
      " 28079012.41094478 28079046.17320442 28079037.64338928 28079037.82398706\n",
      " 28079038.54637817 28079028.31995893 28079039.16912524 28079035.01656339\n",
      " 28079019.2744982  28079041.79268802 28079021.80330477 28079052.44959083\n",
      " 28079035.88002721 28079022.19924012 28079027.8272354  28079044.68388641\n",
      " 28079053.41871098 28079032.7482014  28079023.03711209 28079028.47716602\n",
      " 28079036.93052064 28079035.83026301 28079009.06652134 28079020.83017748\n",
      " 28079030.61870541 28079043.82543331]\n"
     ]
    }
   ],
   "source": [
    "print(p.predict(x_test))"
   ]
  },
  {
   "cell_type": "code",
   "execution_count": 44,
   "id": "95881e72",
   "metadata": {},
   "outputs": [
    {
     "name": "stdout",
     "output_type": "stream",
     "text": [
      "0.2049889127914215\n"
     ]
    }
   ],
   "source": [
    "print(p.score(x_test,y_test))"
   ]
  },
  {
   "cell_type": "markdown",
   "id": "f62710da",
   "metadata": {},
   "source": [
    "# RANDOM FOREST"
   ]
  },
  {
   "cell_type": "code",
   "execution_count": 45,
   "id": "23651e19",
   "metadata": {},
   "outputs": [
    {
     "data": {
      "text/plain": [
       "RandomForestClassifier()"
      ]
     },
     "execution_count": 45,
     "metadata": {},
     "output_type": "execute_result"
    }
   ],
   "source": [
    "from sklearn.ensemble import RandomForestClassifier\n",
    "rfc=RandomForestClassifier()\n",
    "rfc.fit(x_train,y_train)"
   ]
  },
  {
   "cell_type": "code",
   "execution_count": 46,
   "id": "38759f0d",
   "metadata": {},
   "outputs": [],
   "source": [
    "parameters={'max_depth':[1,53,67,53,57],\n",
    "  'min_samples_leaf':[5,34,67,87,45],\n",
    "           'n_estimators':[23,45,67,23,56]}"
   ]
  },
  {
   "cell_type": "code",
   "execution_count": 47,
   "id": "b172d810",
   "metadata": {},
   "outputs": [
    {
     "name": "stderr",
     "output_type": "stream",
     "text": [
      "C:\\ProgramData\\Anaconda3\\lib\\site-packages\\sklearn\\model_selection\\_split.py:666: UserWarning: The least populated class in y has only 1 members, which is less than n_splits=2.\n",
      "  warnings.warn((\"The least populated class in y has only %d\"\n"
     ]
    },
    {
     "data": {
      "text/plain": [
       "GridSearchCV(cv=2, estimator=RandomForestClassifier(),\n",
       "             param_grid={'max_depth': [1, 53, 67, 53, 57],\n",
       "                         'min_samples_leaf': [5, 34, 67, 87, 45],\n",
       "                         'n_estimators': [23, 45, 67, 23, 56]},\n",
       "             scoring='accuracy')"
      ]
     },
     "execution_count": 47,
     "metadata": {},
     "output_type": "execute_result"
    }
   ],
   "source": [
    "from sklearn.model_selection import GridSearchCV\n",
    "grid_search=GridSearchCV(estimator=rfc,param_grid=parameters,cv=2,scoring=\"accuracy\")\n",
    "grid_search.fit(x_train,y_train)"
   ]
  },
  {
   "cell_type": "code",
   "execution_count": 48,
   "id": "f5258923",
   "metadata": {},
   "outputs": [
    {
     "data": {
      "text/plain": [
       "0.4714285714285714"
      ]
     },
     "execution_count": 48,
     "metadata": {},
     "output_type": "execute_result"
    }
   ],
   "source": [
    "grid_search.best_score_"
   ]
  },
  {
   "cell_type": "code",
   "execution_count": 49,
   "id": "6039dafa",
   "metadata": {},
   "outputs": [],
   "source": [
    "rfc_best=grid_search.best_estimator_"
   ]
  },
  {
   "cell_type": "code",
   "execution_count": 50,
   "id": "944e67ef",
   "metadata": {},
   "outputs": [
    {
     "data": {
      "text/plain": [
       "[Text(1116.0, 2219.7, 'X[0] <= 6.7\\ngini = 0.935\\nsamples = 38\\nvalue = [3, 2, 8, 4, 1, 2, 0, 1, 2, 6, 1, 5, 5, 6\\n2, 2, 2, 0, 2, 1, 5, 6, 0, 4]'),\n",
       " Text(558.0, 1331.82, 'gini = 0.658\\nsamples = 8\\nvalue = [0, 2, 8, 0, 0, 2, 0, 0, 0, 0, 1, 0, 0, 0\\n0, 0, 0, 0, 2, 0, 0, 0, 0, 0]'),\n",
       " Text(1674.0, 1331.82, 'X[7] <= 9.0\\ngini = 0.92\\nsamples = 30\\nvalue = [3, 0, 0, 4, 1, 0, 0, 1, 2, 6, 0, 5, 5, 6\\n2, 2, 2, 0, 0, 1, 5, 6, 0, 4]'),\n",
       " Text(1116.0, 443.94000000000005, 'gini = 0.793\\nsamples = 12\\nvalue = [3, 0, 0, 0, 1, 0, 0, 0, 2, 6, 0, 0, 5, 0\\n0, 0, 0, 0, 0, 0, 5, 0, 0, 0]'),\n",
       " Text(2232.0, 443.94000000000005, 'gini = 0.869\\nsamples = 18\\nvalue = [0, 0, 0, 4, 0, 0, 0, 1, 0, 0, 0, 5, 0, 6\\n2, 2, 2, 0, 0, 1, 0, 6, 0, 4]')]"
      ]
     },
     "execution_count": 50,
     "metadata": {},
     "output_type": "execute_result"
    },
    {
     "data": {
      "image/png": "[encoded data removed]",
      "text/plain": [
       "<Figure size 3600x3528 with 1 Axes>"
      ]
     },
     "metadata": {
      "needs_background": "light"
     },
     "output_type": "display_data"
    }
   ],
   "source": [
    "from sklearn.tree import plot_tree\n",
    "plt.figure(figsize=(50,49))\n",
    "plot_tree(rfc_best.estimators_[5],filled=True)"
   ]
  },
  {
   "cell_type": "markdown",
   "id": "ab803f3b",
   "metadata": {},
   "source": [
    "# Conclusion:Random Forest score=0.4714285714285714 is a Highest accuracy"
   ]
  },
  {
   "cell_type": "markdown",
   "id": "aa7645a6",
   "metadata": {},
   "source": [
    "# DATA SET 12"
   ]
  },
  {
   "cell_type": "code",
   "execution_count": 51,
   "id": "b8acc7fc",
   "metadata": {},
   "outputs": [
    {
     "data": {
      "text/html": [
       "<div>\n",
       "<style scoped>\n",
       "    .dataframe tbody tr th:only-of-type {\n",
       "        vertical-align: middle;\n",
       "    }\n",
       "\n",
       "    .dataframe tbody tr th {\n",
       "        vertical-align: top;\n",
       "    }\n",
       "\n",
       "    .dataframe thead th {\n",
       "        text-align: right;\n",
       "    }\n",
       "</style>\n",
       "<table border=\"1\" class=\"dataframe\">\n",
       "  <thead>\n",
       "    <tr style=\"text-align: right;\">\n",
       "      <th></th>\n",
       "      <th>date</th>\n",
       "      <th>BEN</th>\n",
       "      <th>CO</th>\n",
       "      <th>EBE</th>\n",
       "      <th>NMHC</th>\n",
       "      <th>NO</th>\n",
       "      <th>NO_2</th>\n",
       "      <th>O_3</th>\n",
       "      <th>PM10</th>\n",
       "      <th>PM25</th>\n",
       "      <th>SO_2</th>\n",
       "      <th>TCH</th>\n",
       "      <th>TOL</th>\n",
       "      <th>station</th>\n",
       "    </tr>\n",
       "  </thead>\n",
       "  <tbody>\n",
       "    <tr>\n",
       "      <th>0</th>\n",
       "      <td>2012-09-01 01:00:00</td>\n",
       "      <td>NaN</td>\n",
       "      <td>0.2</td>\n",
       "      <td>NaN</td>\n",
       "      <td>NaN</td>\n",
       "      <td>7.0</td>\n",
       "      <td>18.0</td>\n",
       "      <td>NaN</td>\n",
       "      <td>NaN</td>\n",
       "      <td>NaN</td>\n",
       "      <td>2.0</td>\n",
       "      <td>NaN</td>\n",
       "      <td>NaN</td>\n",
       "      <td>28079004</td>\n",
       "    </tr>\n",
       "    <tr>\n",
       "      <th>1</th>\n",
       "      <td>2012-09-01 01:00:00</td>\n",
       "      <td>0.3</td>\n",
       "      <td>0.3</td>\n",
       "      <td>0.7</td>\n",
       "      <td>NaN</td>\n",
       "      <td>3.0</td>\n",
       "      <td>18.0</td>\n",
       "      <td>55.0</td>\n",
       "      <td>10.0</td>\n",
       "      <td>9.0</td>\n",
       "      <td>1.0</td>\n",
       "      <td>NaN</td>\n",
       "      <td>2.4</td>\n",
       "      <td>28079008</td>\n",
       "    </tr>\n",
       "    <tr>\n",
       "      <th>2</th>\n",
       "      <td>2012-09-01 01:00:00</td>\n",
       "      <td>0.4</td>\n",
       "      <td>NaN</td>\n",
       "      <td>0.7</td>\n",
       "      <td>NaN</td>\n",
       "      <td>2.0</td>\n",
       "      <td>10.0</td>\n",
       "      <td>NaN</td>\n",
       "      <td>NaN</td>\n",
       "      <td>NaN</td>\n",
       "      <td>NaN</td>\n",
       "      <td>NaN</td>\n",
       "      <td>1.5</td>\n",
       "      <td>28079011</td>\n",
       "    </tr>\n",
       "    <tr>\n",
       "      <th>3</th>\n",
       "      <td>2012-09-01 01:00:00</td>\n",
       "      <td>NaN</td>\n",
       "      <td>0.2</td>\n",
       "      <td>NaN</td>\n",
       "      <td>NaN</td>\n",
       "      <td>1.0</td>\n",
       "      <td>6.0</td>\n",
       "      <td>50.0</td>\n",
       "      <td>NaN</td>\n",
       "      <td>NaN</td>\n",
       "      <td>NaN</td>\n",
       "      <td>NaN</td>\n",
       "      <td>NaN</td>\n",
       "      <td>28079016</td>\n",
       "    </tr>\n",
       "    <tr>\n",
       "      <th>4</th>\n",
       "      <td>2012-09-01 01:00:00</td>\n",
       "      <td>NaN</td>\n",
       "      <td>NaN</td>\n",
       "      <td>NaN</td>\n",
       "      <td>NaN</td>\n",
       "      <td>1.0</td>\n",
       "      <td>13.0</td>\n",
       "      <td>54.0</td>\n",
       "      <td>NaN</td>\n",
       "      <td>NaN</td>\n",
       "      <td>3.0</td>\n",
       "      <td>NaN</td>\n",
       "      <td>NaN</td>\n",
       "      <td>28079017</td>\n",
       "    </tr>\n",
       "    <tr>\n",
       "      <th>...</th>\n",
       "      <td>...</td>\n",
       "      <td>...</td>\n",
       "      <td>...</td>\n",
       "      <td>...</td>\n",
       "      <td>...</td>\n",
       "      <td>...</td>\n",
       "      <td>...</td>\n",
       "      <td>...</td>\n",
       "      <td>...</td>\n",
       "      <td>...</td>\n",
       "      <td>...</td>\n",
       "      <td>...</td>\n",
       "      <td>...</td>\n",
       "      <td>...</td>\n",
       "    </tr>\n",
       "    <tr>\n",
       "      <th>210715</th>\n",
       "      <td>2012-03-01 00:00:00</td>\n",
       "      <td>NaN</td>\n",
       "      <td>0.6</td>\n",
       "      <td>NaN</td>\n",
       "      <td>NaN</td>\n",
       "      <td>37.0</td>\n",
       "      <td>84.0</td>\n",
       "      <td>14.0</td>\n",
       "      <td>NaN</td>\n",
       "      <td>NaN</td>\n",
       "      <td>NaN</td>\n",
       "      <td>NaN</td>\n",
       "      <td>NaN</td>\n",
       "      <td>28079056</td>\n",
       "    </tr>\n",
       "    <tr>\n",
       "      <th>210716</th>\n",
       "      <td>2012-03-01 00:00:00</td>\n",
       "      <td>NaN</td>\n",
       "      <td>0.4</td>\n",
       "      <td>NaN</td>\n",
       "      <td>NaN</td>\n",
       "      <td>5.0</td>\n",
       "      <td>76.0</td>\n",
       "      <td>NaN</td>\n",
       "      <td>17.0</td>\n",
       "      <td>NaN</td>\n",
       "      <td>7.0</td>\n",
       "      <td>NaN</td>\n",
       "      <td>NaN</td>\n",
       "      <td>28079057</td>\n",
       "    </tr>\n",
       "    <tr>\n",
       "      <th>210717</th>\n",
       "      <td>2012-03-01 00:00:00</td>\n",
       "      <td>NaN</td>\n",
       "      <td>NaN</td>\n",
       "      <td>NaN</td>\n",
       "      <td>0.34</td>\n",
       "      <td>3.0</td>\n",
       "      <td>41.0</td>\n",
       "      <td>24.0</td>\n",
       "      <td>NaN</td>\n",
       "      <td>NaN</td>\n",
       "      <td>NaN</td>\n",
       "      <td>1.34</td>\n",
       "      <td>NaN</td>\n",
       "      <td>28079058</td>\n",
       "    </tr>\n",
       "    <tr>\n",
       "      <th>210718</th>\n",
       "      <td>2012-03-01 00:00:00</td>\n",
       "      <td>NaN</td>\n",
       "      <td>NaN</td>\n",
       "      <td>NaN</td>\n",
       "      <td>NaN</td>\n",
       "      <td>2.0</td>\n",
       "      <td>44.0</td>\n",
       "      <td>36.0</td>\n",
       "      <td>NaN</td>\n",
       "      <td>NaN</td>\n",
       "      <td>NaN</td>\n",
       "      <td>NaN</td>\n",
       "      <td>NaN</td>\n",
       "      <td>28079059</td>\n",
       "    </tr>\n",
       "    <tr>\n",
       "      <th>210719</th>\n",
       "      <td>2012-03-01 00:00:00</td>\n",
       "      <td>NaN</td>\n",
       "      <td>NaN</td>\n",
       "      <td>NaN</td>\n",
       "      <td>NaN</td>\n",
       "      <td>2.0</td>\n",
       "      <td>56.0</td>\n",
       "      <td>40.0</td>\n",
       "      <td>18.0</td>\n",
       "      <td>NaN</td>\n",
       "      <td>NaN</td>\n",
       "      <td>NaN</td>\n",
       "      <td>NaN</td>\n",
       "      <td>28079060</td>\n",
       "    </tr>\n",
       "  </tbody>\n",
       "</table>\n",
       "<p>210720 rows × 14 columns</p>\n",
       "</div>"
      ],
      "text/plain": [
       "                       date  BEN   CO  EBE  NMHC    NO  NO_2   O_3  PM10  \\\n",
       "0       2012-09-01 01:00:00  NaN  0.2  NaN   NaN   7.0  18.0   NaN   NaN   \n",
       "1       2012-09-01 01:00:00  0.3  0.3  0.7   NaN   3.0  18.0  55.0  10.0   \n",
       "2       2012-09-01 01:00:00  0.4  NaN  0.7   NaN   2.0  10.0   NaN   NaN   \n",
       "3       2012-09-01 01:00:00  NaN  0.2  NaN   NaN   1.0   6.0  50.0   NaN   \n",
       "4       2012-09-01 01:00:00  NaN  NaN  NaN   NaN   1.0  13.0  54.0   NaN   \n",
       "...                     ...  ...  ...  ...   ...   ...   ...   ...   ...   \n",
       "210715  2012-03-01 00:00:00  NaN  0.6  NaN   NaN  37.0  84.0  14.0   NaN   \n",
       "210716  2012-03-01 00:00:00  NaN  0.4  NaN   NaN   5.0  76.0   NaN  17.0   \n",
       "210717  2012-03-01 00:00:00  NaN  NaN  NaN  0.34   3.0  41.0  24.0   NaN   \n",
       "210718  2012-03-01 00:00:00  NaN  NaN  NaN   NaN   2.0  44.0  36.0   NaN   \n",
       "210719  2012-03-01 00:00:00  NaN  NaN  NaN   NaN   2.0  56.0  40.0  18.0   \n",
       "\n",
       "        PM25  SO_2   TCH  TOL   station  \n",
       "0        NaN   2.0   NaN  NaN  28079004  \n",
       "1        9.0   1.0   NaN  2.4  28079008  \n",
       "2        NaN   NaN   NaN  1.5  28079011  \n",
       "3        NaN   NaN   NaN  NaN  28079016  \n",
       "4        NaN   3.0   NaN  NaN  28079017  \n",
       "...      ...   ...   ...  ...       ...  \n",
       "210715   NaN   NaN   NaN  NaN  28079056  \n",
       "210716   NaN   7.0   NaN  NaN  28079057  \n",
       "210717   NaN   NaN  1.34  NaN  28079058  \n",
       "210718   NaN   NaN   NaN  NaN  28079059  \n",
       "210719   NaN   NaN   NaN  NaN  28079060  \n",
       "\n",
       "[210720 rows x 14 columns]"
      ]
     },
     "execution_count": 51,
     "metadata": {},
     "output_type": "execute_result"
    }
   ],
   "source": [
    "s=pd.read_csv(r\"C:\\Users\\user\\Downloads\\C10_air\\csvs_per_year\\csvs_per_year\\madrid_2012.csv\")\n",
    "s"
   ]
  },
  {
   "cell_type": "code",
   "execution_count": 52,
   "id": "22acf845",
   "metadata": {},
   "outputs": [
    {
     "data": {
      "text/html": [
       "<div>\n",
       "<style scoped>\n",
       "    .dataframe tbody tr th:only-of-type {\n",
       "        vertical-align: middle;\n",
       "    }\n",
       "\n",
       "    .dataframe tbody tr th {\n",
       "        vertical-align: top;\n",
       "    }\n",
       "\n",
       "    .dataframe thead th {\n",
       "        text-align: right;\n",
       "    }\n",
       "</style>\n",
       "<table border=\"1\" class=\"dataframe\">\n",
       "  <thead>\n",
       "    <tr style=\"text-align: right;\">\n",
       "      <th></th>\n",
       "      <th>date</th>\n",
       "      <th>BEN</th>\n",
       "      <th>CO</th>\n",
       "      <th>EBE</th>\n",
       "      <th>NMHC</th>\n",
       "      <th>NO</th>\n",
       "      <th>NO_2</th>\n",
       "      <th>O_3</th>\n",
       "      <th>PM10</th>\n",
       "      <th>PM25</th>\n",
       "      <th>SO_2</th>\n",
       "      <th>TCH</th>\n",
       "      <th>TOL</th>\n",
       "      <th>station</th>\n",
       "    </tr>\n",
       "  </thead>\n",
       "  <tbody>\n",
       "    <tr>\n",
       "      <th>0</th>\n",
       "      <td>2012-09-01 01:00:00</td>\n",
       "      <td>4.0</td>\n",
       "      <td>0.2</td>\n",
       "      <td>4.0</td>\n",
       "      <td>4.00</td>\n",
       "      <td>7.0</td>\n",
       "      <td>18.0</td>\n",
       "      <td>4.0</td>\n",
       "      <td>4.0</td>\n",
       "      <td>4.0</td>\n",
       "      <td>2.0</td>\n",
       "      <td>4.00</td>\n",
       "      <td>4.0</td>\n",
       "      <td>28079004</td>\n",
       "    </tr>\n",
       "    <tr>\n",
       "      <th>1</th>\n",
       "      <td>2012-09-01 01:00:00</td>\n",
       "      <td>0.3</td>\n",
       "      <td>0.3</td>\n",
       "      <td>0.7</td>\n",
       "      <td>4.00</td>\n",
       "      <td>3.0</td>\n",
       "      <td>18.0</td>\n",
       "      <td>55.0</td>\n",
       "      <td>10.0</td>\n",
       "      <td>9.0</td>\n",
       "      <td>1.0</td>\n",
       "      <td>4.00</td>\n",
       "      <td>2.4</td>\n",
       "      <td>28079008</td>\n",
       "    </tr>\n",
       "    <tr>\n",
       "      <th>2</th>\n",
       "      <td>2012-09-01 01:00:00</td>\n",
       "      <td>0.4</td>\n",
       "      <td>4.0</td>\n",
       "      <td>0.7</td>\n",
       "      <td>4.00</td>\n",
       "      <td>2.0</td>\n",
       "      <td>10.0</td>\n",
       "      <td>4.0</td>\n",
       "      <td>4.0</td>\n",
       "      <td>4.0</td>\n",
       "      <td>4.0</td>\n",
       "      <td>4.00</td>\n",
       "      <td>1.5</td>\n",
       "      <td>28079011</td>\n",
       "    </tr>\n",
       "    <tr>\n",
       "      <th>3</th>\n",
       "      <td>2012-09-01 01:00:00</td>\n",
       "      <td>4.0</td>\n",
       "      <td>0.2</td>\n",
       "      <td>4.0</td>\n",
       "      <td>4.00</td>\n",
       "      <td>1.0</td>\n",
       "      <td>6.0</td>\n",
       "      <td>50.0</td>\n",
       "      <td>4.0</td>\n",
       "      <td>4.0</td>\n",
       "      <td>4.0</td>\n",
       "      <td>4.00</td>\n",
       "      <td>4.0</td>\n",
       "      <td>28079016</td>\n",
       "    </tr>\n",
       "    <tr>\n",
       "      <th>4</th>\n",
       "      <td>2012-09-01 01:00:00</td>\n",
       "      <td>4.0</td>\n",
       "      <td>4.0</td>\n",
       "      <td>4.0</td>\n",
       "      <td>4.00</td>\n",
       "      <td>1.0</td>\n",
       "      <td>13.0</td>\n",
       "      <td>54.0</td>\n",
       "      <td>4.0</td>\n",
       "      <td>4.0</td>\n",
       "      <td>3.0</td>\n",
       "      <td>4.00</td>\n",
       "      <td>4.0</td>\n",
       "      <td>28079017</td>\n",
       "    </tr>\n",
       "    <tr>\n",
       "      <th>...</th>\n",
       "      <td>...</td>\n",
       "      <td>...</td>\n",
       "      <td>...</td>\n",
       "      <td>...</td>\n",
       "      <td>...</td>\n",
       "      <td>...</td>\n",
       "      <td>...</td>\n",
       "      <td>...</td>\n",
       "      <td>...</td>\n",
       "      <td>...</td>\n",
       "      <td>...</td>\n",
       "      <td>...</td>\n",
       "      <td>...</td>\n",
       "      <td>...</td>\n",
       "    </tr>\n",
       "    <tr>\n",
       "      <th>210715</th>\n",
       "      <td>2012-03-01 00:00:00</td>\n",
       "      <td>4.0</td>\n",
       "      <td>0.6</td>\n",
       "      <td>4.0</td>\n",
       "      <td>4.00</td>\n",
       "      <td>37.0</td>\n",
       "      <td>84.0</td>\n",
       "      <td>14.0</td>\n",
       "      <td>4.0</td>\n",
       "      <td>4.0</td>\n",
       "      <td>4.0</td>\n",
       "      <td>4.00</td>\n",
       "      <td>4.0</td>\n",
       "      <td>28079056</td>\n",
       "    </tr>\n",
       "    <tr>\n",
       "      <th>210716</th>\n",
       "      <td>2012-03-01 00:00:00</td>\n",
       "      <td>4.0</td>\n",
       "      <td>0.4</td>\n",
       "      <td>4.0</td>\n",
       "      <td>4.00</td>\n",
       "      <td>5.0</td>\n",
       "      <td>76.0</td>\n",
       "      <td>4.0</td>\n",
       "      <td>17.0</td>\n",
       "      <td>4.0</td>\n",
       "      <td>7.0</td>\n",
       "      <td>4.00</td>\n",
       "      <td>4.0</td>\n",
       "      <td>28079057</td>\n",
       "    </tr>\n",
       "    <tr>\n",
       "      <th>210717</th>\n",
       "      <td>2012-03-01 00:00:00</td>\n",
       "      <td>4.0</td>\n",
       "      <td>4.0</td>\n",
       "      <td>4.0</td>\n",
       "      <td>0.34</td>\n",
       "      <td>3.0</td>\n",
       "      <td>41.0</td>\n",
       "      <td>24.0</td>\n",
       "      <td>4.0</td>\n",
       "      <td>4.0</td>\n",
       "      <td>4.0</td>\n",
       "      <td>1.34</td>\n",
       "      <td>4.0</td>\n",
       "      <td>28079058</td>\n",
       "    </tr>\n",
       "    <tr>\n",
       "      <th>210718</th>\n",
       "      <td>2012-03-01 00:00:00</td>\n",
       "      <td>4.0</td>\n",
       "      <td>4.0</td>\n",
       "      <td>4.0</td>\n",
       "      <td>4.00</td>\n",
       "      <td>2.0</td>\n",
       "      <td>44.0</td>\n",
       "      <td>36.0</td>\n",
       "      <td>4.0</td>\n",
       "      <td>4.0</td>\n",
       "      <td>4.0</td>\n",
       "      <td>4.00</td>\n",
       "      <td>4.0</td>\n",
       "      <td>28079059</td>\n",
       "    </tr>\n",
       "    <tr>\n",
       "      <th>210719</th>\n",
       "      <td>2012-03-01 00:00:00</td>\n",
       "      <td>4.0</td>\n",
       "      <td>4.0</td>\n",
       "      <td>4.0</td>\n",
       "      <td>4.00</td>\n",
       "      <td>2.0</td>\n",
       "      <td>56.0</td>\n",
       "      <td>40.0</td>\n",
       "      <td>18.0</td>\n",
       "      <td>4.0</td>\n",
       "      <td>4.0</td>\n",
       "      <td>4.00</td>\n",
       "      <td>4.0</td>\n",
       "      <td>28079060</td>\n",
       "    </tr>\n",
       "  </tbody>\n",
       "</table>\n",
       "<p>210720 rows × 14 columns</p>\n",
       "</div>"
      ],
      "text/plain": [
       "                       date  BEN   CO  EBE  NMHC    NO  NO_2   O_3  PM10  \\\n",
       "0       2012-09-01 01:00:00  4.0  0.2  4.0  4.00   7.0  18.0   4.0   4.0   \n",
       "1       2012-09-01 01:00:00  0.3  0.3  0.7  4.00   3.0  18.0  55.0  10.0   \n",
       "2       2012-09-01 01:00:00  0.4  4.0  0.7  4.00   2.0  10.0   4.0   4.0   \n",
       "3       2012-09-01 01:00:00  4.0  0.2  4.0  4.00   1.0   6.0  50.0   4.0   \n",
       "4       2012-09-01 01:00:00  4.0  4.0  4.0  4.00   1.0  13.0  54.0   4.0   \n",
       "...                     ...  ...  ...  ...   ...   ...   ...   ...   ...   \n",
       "210715  2012-03-01 00:00:00  4.0  0.6  4.0  4.00  37.0  84.0  14.0   4.0   \n",
       "210716  2012-03-01 00:00:00  4.0  0.4  4.0  4.00   5.0  76.0   4.0  17.0   \n",
       "210717  2012-03-01 00:00:00  4.0  4.0  4.0  0.34   3.0  41.0  24.0   4.0   \n",
       "210718  2012-03-01 00:00:00  4.0  4.0  4.0  4.00   2.0  44.0  36.0   4.0   \n",
       "210719  2012-03-01 00:00:00  4.0  4.0  4.0  4.00   2.0  56.0  40.0  18.0   \n",
       "\n",
       "        PM25  SO_2   TCH  TOL   station  \n",
       "0        4.0   2.0  4.00  4.0  28079004  \n",
       "1        9.0   1.0  4.00  2.4  28079008  \n",
       "2        4.0   4.0  4.00  1.5  28079011  \n",
       "3        4.0   4.0  4.00  4.0  28079016  \n",
       "4        4.0   3.0  4.00  4.0  28079017  \n",
       "...      ...   ...   ...  ...       ...  \n",
       "210715   4.0   4.0  4.00  4.0  28079056  \n",
       "210716   4.0   7.0  4.00  4.0  28079057  \n",
       "210717   4.0   4.0  1.34  4.0  28079058  \n",
       "210718   4.0   4.0  4.00  4.0  28079059  \n",
       "210719   4.0   4.0  4.00  4.0  28079060  \n",
       "\n",
       "[210720 rows x 14 columns]"
      ]
     },
     "execution_count": 52,
     "metadata": {},
     "output_type": "execute_result"
    }
   ],
   "source": [
    "s1=s.fillna(value=4)\n",
    "s1"
   ]
  },
  {
   "cell_type": "code",
   "execution_count": 53,
   "id": "1ea6f2a4",
   "metadata": {},
   "outputs": [
    {
     "name": "stdout",
     "output_type": "stream",
     "text": [
      "<class 'pandas.core.frame.DataFrame'>\n",
      "RangeIndex: 210720 entries, 0 to 210719\n",
      "Data columns (total 14 columns):\n",
      " #   Column   Non-Null Count   Dtype  \n",
      "---  ------   --------------   -----  \n",
      " 0   date     210720 non-null  object \n",
      " 1   BEN      210720 non-null  float64\n",
      " 2   CO       210720 non-null  float64\n",
      " 3   EBE      210720 non-null  float64\n",
      " 4   NMHC     210720 non-null  float64\n",
      " 5   NO       210720 non-null  float64\n",
      " 6   NO_2     210720 non-null  float64\n",
      " 7   O_3      210720 non-null  float64\n",
      " 8   PM10     210720 non-null  float64\n",
      " 9   PM25     210720 non-null  float64\n",
      " 10  SO_2     210720 non-null  float64\n",
      " 11  TCH      210720 non-null  float64\n",
      " 12  TOL      210720 non-null  float64\n",
      " 13  station  210720 non-null  int64  \n",
      "dtypes: float64(12), int64(1), object(1)\n",
      "memory usage: 22.5+ MB\n"
     ]
    }
   ],
   "source": [
    "s1.info()"
   ]
  },
  {
   "cell_type": "code",
   "execution_count": 54,
   "id": "09099d7c",
   "metadata": {},
   "outputs": [
    {
     "data": {
      "text/html": [
       "<div>\n",
       "<style scoped>\n",
       "    .dataframe tbody tr th:only-of-type {\n",
       "        vertical-align: middle;\n",
       "    }\n",
       "\n",
       "    .dataframe tbody tr th {\n",
       "        vertical-align: top;\n",
       "    }\n",
       "\n",
       "    .dataframe thead th {\n",
       "        text-align: right;\n",
       "    }\n",
       "</style>\n",
       "<table border=\"1\" class=\"dataframe\">\n",
       "  <thead>\n",
       "    <tr style=\"text-align: right;\">\n",
       "      <th></th>\n",
       "      <th>date</th>\n",
       "      <th>BEN</th>\n",
       "      <th>CO</th>\n",
       "      <th>EBE</th>\n",
       "      <th>NMHC</th>\n",
       "      <th>NO</th>\n",
       "      <th>NO_2</th>\n",
       "      <th>O_3</th>\n",
       "      <th>PM10</th>\n",
       "      <th>PM25</th>\n",
       "      <th>SO_2</th>\n",
       "      <th>TCH</th>\n",
       "      <th>TOL</th>\n",
       "      <th>station</th>\n",
       "    </tr>\n",
       "  </thead>\n",
       "  <tbody>\n",
       "    <tr>\n",
       "      <th>0</th>\n",
       "      <td>2012-09-01 01:00:00</td>\n",
       "      <td>4.0</td>\n",
       "      <td>0.2</td>\n",
       "      <td>4.0</td>\n",
       "      <td>4.0</td>\n",
       "      <td>7.0</td>\n",
       "      <td>18.0</td>\n",
       "      <td>4.0</td>\n",
       "      <td>4.0</td>\n",
       "      <td>4.0</td>\n",
       "      <td>2.0</td>\n",
       "      <td>4.0</td>\n",
       "      <td>4.0</td>\n",
       "      <td>28079004</td>\n",
       "    </tr>\n",
       "    <tr>\n",
       "      <th>1</th>\n",
       "      <td>2012-09-01 01:00:00</td>\n",
       "      <td>0.3</td>\n",
       "      <td>0.3</td>\n",
       "      <td>0.7</td>\n",
       "      <td>4.0</td>\n",
       "      <td>3.0</td>\n",
       "      <td>18.0</td>\n",
       "      <td>55.0</td>\n",
       "      <td>10.0</td>\n",
       "      <td>9.0</td>\n",
       "      <td>1.0</td>\n",
       "      <td>4.0</td>\n",
       "      <td>2.4</td>\n",
       "      <td>28079008</td>\n",
       "    </tr>\n",
       "    <tr>\n",
       "      <th>2</th>\n",
       "      <td>2012-09-01 01:00:00</td>\n",
       "      <td>0.4</td>\n",
       "      <td>4.0</td>\n",
       "      <td>0.7</td>\n",
       "      <td>4.0</td>\n",
       "      <td>2.0</td>\n",
       "      <td>10.0</td>\n",
       "      <td>4.0</td>\n",
       "      <td>4.0</td>\n",
       "      <td>4.0</td>\n",
       "      <td>4.0</td>\n",
       "      <td>4.0</td>\n",
       "      <td>1.5</td>\n",
       "      <td>28079011</td>\n",
       "    </tr>\n",
       "    <tr>\n",
       "      <th>3</th>\n",
       "      <td>2012-09-01 01:00:00</td>\n",
       "      <td>4.0</td>\n",
       "      <td>0.2</td>\n",
       "      <td>4.0</td>\n",
       "      <td>4.0</td>\n",
       "      <td>1.0</td>\n",
       "      <td>6.0</td>\n",
       "      <td>50.0</td>\n",
       "      <td>4.0</td>\n",
       "      <td>4.0</td>\n",
       "      <td>4.0</td>\n",
       "      <td>4.0</td>\n",
       "      <td>4.0</td>\n",
       "      <td>28079016</td>\n",
       "    </tr>\n",
       "    <tr>\n",
       "      <th>4</th>\n",
       "      <td>2012-09-01 01:00:00</td>\n",
       "      <td>4.0</td>\n",
       "      <td>4.0</td>\n",
       "      <td>4.0</td>\n",
       "      <td>4.0</td>\n",
       "      <td>1.0</td>\n",
       "      <td>13.0</td>\n",
       "      <td>54.0</td>\n",
       "      <td>4.0</td>\n",
       "      <td>4.0</td>\n",
       "      <td>3.0</td>\n",
       "      <td>4.0</td>\n",
       "      <td>4.0</td>\n",
       "      <td>28079017</td>\n",
       "    </tr>\n",
       "    <tr>\n",
       "      <th>...</th>\n",
       "      <td>...</td>\n",
       "      <td>...</td>\n",
       "      <td>...</td>\n",
       "      <td>...</td>\n",
       "      <td>...</td>\n",
       "      <td>...</td>\n",
       "      <td>...</td>\n",
       "      <td>...</td>\n",
       "      <td>...</td>\n",
       "      <td>...</td>\n",
       "      <td>...</td>\n",
       "      <td>...</td>\n",
       "      <td>...</td>\n",
       "      <td>...</td>\n",
       "    </tr>\n",
       "    <tr>\n",
       "      <th>95</th>\n",
       "      <td>2012-09-01 04:00:00</td>\n",
       "      <td>4.0</td>\n",
       "      <td>4.0</td>\n",
       "      <td>4.0</td>\n",
       "      <td>4.0</td>\n",
       "      <td>1.0</td>\n",
       "      <td>4.0</td>\n",
       "      <td>59.0</td>\n",
       "      <td>5.0</td>\n",
       "      <td>4.0</td>\n",
       "      <td>4.0</td>\n",
       "      <td>4.0</td>\n",
       "      <td>4.0</td>\n",
       "      <td>28079060</td>\n",
       "    </tr>\n",
       "    <tr>\n",
       "      <th>96</th>\n",
       "      <td>2012-09-01 05:00:00</td>\n",
       "      <td>4.0</td>\n",
       "      <td>0.2</td>\n",
       "      <td>4.0</td>\n",
       "      <td>4.0</td>\n",
       "      <td>2.0</td>\n",
       "      <td>8.0</td>\n",
       "      <td>4.0</td>\n",
       "      <td>4.0</td>\n",
       "      <td>4.0</td>\n",
       "      <td>2.0</td>\n",
       "      <td>4.0</td>\n",
       "      <td>4.0</td>\n",
       "      <td>28079004</td>\n",
       "    </tr>\n",
       "    <tr>\n",
       "      <th>97</th>\n",
       "      <td>2012-09-01 05:00:00</td>\n",
       "      <td>0.2</td>\n",
       "      <td>0.2</td>\n",
       "      <td>0.3</td>\n",
       "      <td>4.0</td>\n",
       "      <td>3.0</td>\n",
       "      <td>11.0</td>\n",
       "      <td>55.0</td>\n",
       "      <td>8.0</td>\n",
       "      <td>6.0</td>\n",
       "      <td>1.0</td>\n",
       "      <td>4.0</td>\n",
       "      <td>1.2</td>\n",
       "      <td>28079008</td>\n",
       "    </tr>\n",
       "    <tr>\n",
       "      <th>98</th>\n",
       "      <td>2012-09-01 05:00:00</td>\n",
       "      <td>0.2</td>\n",
       "      <td>4.0</td>\n",
       "      <td>0.6</td>\n",
       "      <td>4.0</td>\n",
       "      <td>2.0</td>\n",
       "      <td>5.0</td>\n",
       "      <td>4.0</td>\n",
       "      <td>4.0</td>\n",
       "      <td>4.0</td>\n",
       "      <td>4.0</td>\n",
       "      <td>4.0</td>\n",
       "      <td>0.9</td>\n",
       "      <td>28079011</td>\n",
       "    </tr>\n",
       "    <tr>\n",
       "      <th>99</th>\n",
       "      <td>2012-09-01 05:00:00</td>\n",
       "      <td>4.0</td>\n",
       "      <td>0.2</td>\n",
       "      <td>4.0</td>\n",
       "      <td>4.0</td>\n",
       "      <td>1.0</td>\n",
       "      <td>1.0</td>\n",
       "      <td>49.0</td>\n",
       "      <td>4.0</td>\n",
       "      <td>4.0</td>\n",
       "      <td>4.0</td>\n",
       "      <td>4.0</td>\n",
       "      <td>4.0</td>\n",
       "      <td>28079016</td>\n",
       "    </tr>\n",
       "  </tbody>\n",
       "</table>\n",
       "<p>100 rows × 14 columns</p>\n",
       "</div>"
      ],
      "text/plain": [
       "                   date  BEN   CO  EBE  NMHC   NO  NO_2   O_3  PM10  PM25  \\\n",
       "0   2012-09-01 01:00:00  4.0  0.2  4.0   4.0  7.0  18.0   4.0   4.0   4.0   \n",
       "1   2012-09-01 01:00:00  0.3  0.3  0.7   4.0  3.0  18.0  55.0  10.0   9.0   \n",
       "2   2012-09-01 01:00:00  0.4  4.0  0.7   4.0  2.0  10.0   4.0   4.0   4.0   \n",
       "3   2012-09-01 01:00:00  4.0  0.2  4.0   4.0  1.0   6.0  50.0   4.0   4.0   \n",
       "4   2012-09-01 01:00:00  4.0  4.0  4.0   4.0  1.0  13.0  54.0   4.0   4.0   \n",
       "..                  ...  ...  ...  ...   ...  ...   ...   ...   ...   ...   \n",
       "95  2012-09-01 04:00:00  4.0  4.0  4.0   4.0  1.0   4.0  59.0   5.0   4.0   \n",
       "96  2012-09-01 05:00:00  4.0  0.2  4.0   4.0  2.0   8.0   4.0   4.0   4.0   \n",
       "97  2012-09-01 05:00:00  0.2  0.2  0.3   4.0  3.0  11.0  55.0   8.0   6.0   \n",
       "98  2012-09-01 05:00:00  0.2  4.0  0.6   4.0  2.0   5.0   4.0   4.0   4.0   \n",
       "99  2012-09-01 05:00:00  4.0  0.2  4.0   4.0  1.0   1.0  49.0   4.0   4.0   \n",
       "\n",
       "    SO_2  TCH  TOL   station  \n",
       "0    2.0  4.0  4.0  28079004  \n",
       "1    1.0  4.0  2.4  28079008  \n",
       "2    4.0  4.0  1.5  28079011  \n",
       "3    4.0  4.0  4.0  28079016  \n",
       "4    3.0  4.0  4.0  28079017  \n",
       "..   ...  ...  ...       ...  \n",
       "95   4.0  4.0  4.0  28079060  \n",
       "96   2.0  4.0  4.0  28079004  \n",
       "97   1.0  4.0  1.2  28079008  \n",
       "98   4.0  4.0  0.9  28079011  \n",
       "99   4.0  4.0  4.0  28079016  \n",
       "\n",
       "[100 rows x 14 columns]"
      ]
     },
     "execution_count": 54,
     "metadata": {},
     "output_type": "execute_result"
    }
   ],
   "source": [
    "s2=s1.head(100)\n",
    "s2"
   ]
  },
  {
   "cell_type": "code",
   "execution_count": 86,
   "id": "e6916293",
   "metadata": {},
   "outputs": [],
   "source": [
    "#linear\n",
    "x=s2.iloc[:,1:8]\n",
    "y=s2.iloc[:,-1]"
   ]
  },
  {
   "cell_type": "code",
   "execution_count": 87,
   "id": "e3640236",
   "metadata": {},
   "outputs": [],
   "source": [
    "x_train,x_test,y_train,y_test=train_test_split(x,y,test_size=0.3)"
   ]
  },
  {
   "cell_type": "code",
   "execution_count": 88,
   "id": "e6c2ea19",
   "metadata": {},
   "outputs": [
    {
     "data": {
      "text/plain": [
       "LinearRegression()"
      ]
     },
     "execution_count": 88,
     "metadata": {},
     "output_type": "execute_result"
    }
   ],
   "source": [
    "lr=LinearRegression()\n",
    "lr.fit(x_train,y_train)"
   ]
  },
  {
   "cell_type": "code",
   "execution_count": 89,
   "id": "325a6954",
   "metadata": {},
   "outputs": [
    {
     "name": "stdout",
     "output_type": "stream",
     "text": [
      "28079012.47854309\n"
     ]
    }
   ],
   "source": [
    "print(lr.intercept_)"
   ]
  },
  {
   "cell_type": "code",
   "execution_count": 90,
   "id": "c2ceaa1a",
   "metadata": {},
   "outputs": [
    {
     "data": {
      "text/html": [
       "<div>\n",
       "<style scoped>\n",
       "    .dataframe tbody tr th:only-of-type {\n",
       "        vertical-align: middle;\n",
       "    }\n",
       "\n",
       "    .dataframe tbody tr th {\n",
       "        vertical-align: top;\n",
       "    }\n",
       "\n",
       "    .dataframe thead th {\n",
       "        text-align: right;\n",
       "    }\n",
       "</style>\n",
       "<table border=\"1\" class=\"dataframe\">\n",
       "  <thead>\n",
       "    <tr style=\"text-align: right;\">\n",
       "      <th></th>\n",
       "      <th>Co-efficient</th>\n",
       "    </tr>\n",
       "  </thead>\n",
       "  <tbody>\n",
       "    <tr>\n",
       "      <th>BEN</th>\n",
       "      <td>-16.117477</td>\n",
       "    </tr>\n",
       "    <tr>\n",
       "      <th>CO</th>\n",
       "      <td>3.565893</td>\n",
       "    </tr>\n",
       "    <tr>\n",
       "      <th>EBE</th>\n",
       "      <td>22.830822</td>\n",
       "    </tr>\n",
       "    <tr>\n",
       "      <th>NMHC</th>\n",
       "      <td>-0.921748</td>\n",
       "    </tr>\n",
       "    <tr>\n",
       "      <th>NO</th>\n",
       "      <td>0.090579</td>\n",
       "    </tr>\n",
       "    <tr>\n",
       "      <th>NO_2</th>\n",
       "      <td>-0.413221</td>\n",
       "    </tr>\n",
       "    <tr>\n",
       "      <th>O_3</th>\n",
       "      <td>-0.014879</td>\n",
       "    </tr>\n",
       "  </tbody>\n",
       "</table>\n",
       "</div>"
      ],
      "text/plain": [
       "      Co-efficient\n",
       "BEN     -16.117477\n",
       "CO        3.565893\n",
       "EBE      22.830822\n",
       "NMHC     -0.921748\n",
       "NO        0.090579\n",
       "NO_2     -0.413221\n",
       "O_3      -0.014879"
      ]
     },
     "execution_count": 90,
     "metadata": {},
     "output_type": "execute_result"
    }
   ],
   "source": [
    "coeff=pd.DataFrame(lr.coef_,x.columns,columns=['Co-efficient'])\n",
    "coeff"
   ]
  },
  {
   "cell_type": "code",
   "execution_count": 91,
   "id": "699b8ab1",
   "metadata": {},
   "outputs": [
    {
     "data": {
      "text/plain": [
       "<matplotlib.collections.PathCollection at 0x11237a5a400>"
      ]
     },
     "execution_count": 91,
     "metadata": {},
     "output_type": "execute_result"
    },
    {
     "data": {
      "image/png": "[encoded data removed]",
      "text/plain": [
       "<Figure size 432x288 with 1 Axes>"
      ]
     },
     "metadata": {
      "needs_background": "light"
     },
     "output_type": "display_data"
    }
   ],
   "source": [
    "prediction=lr.predict(x_test)\n",
    "plt.scatter(y_test,prediction)"
   ]
  },
  {
   "cell_type": "code",
   "execution_count": 92,
   "id": "4b8088b3",
   "metadata": {},
   "outputs": [
    {
     "name": "stdout",
     "output_type": "stream",
     "text": [
      "0.16989667695000377\n"
     ]
    }
   ],
   "source": [
    "print(lr.score(x_test,y_test))"
   ]
  },
  {
   "cell_type": "code",
   "execution_count": 93,
   "id": "16e8f1bd",
   "metadata": {},
   "outputs": [
    {
     "data": {
      "text/plain": [
       "0.3706760692381088"
      ]
     },
     "execution_count": 93,
     "metadata": {},
     "output_type": "execute_result"
    }
   ],
   "source": [
    "lr.score(x_train,y_train)"
   ]
  },
  {
   "cell_type": "code",
   "execution_count": 94,
   "id": "edcd3284",
   "metadata": {},
   "outputs": [
    {
     "data": {
      "text/plain": [
       "Lasso(alpha=10)"
      ]
     },
     "execution_count": 94,
     "metadata": {},
     "output_type": "execute_result"
    }
   ],
   "source": [
    "#lasso\n",
    "la=Lasso(alpha=10)\n",
    "la.fit(x_train,y_train)"
   ]
  },
  {
   "cell_type": "code",
   "execution_count": 95,
   "id": "edbd80d8",
   "metadata": {},
   "outputs": [
    {
     "data": {
      "text/plain": [
       "0.029548623868748125"
      ]
     },
     "execution_count": 95,
     "metadata": {},
     "output_type": "execute_result"
    }
   ],
   "source": [
    "la.score(x_test,y_test)"
   ]
  },
  {
   "cell_type": "code",
   "execution_count": 96,
   "id": "fcc2aefe",
   "metadata": {},
   "outputs": [
    {
     "data": {
      "text/plain": [
       "Ridge(alpha=10)"
      ]
     },
     "execution_count": 96,
     "metadata": {},
     "output_type": "execute_result"
    }
   ],
   "source": [
    "#ridge\n",
    "rr=Ridge(alpha=10)\n",
    "rr.fit(x_train,y_train)"
   ]
  },
  {
   "cell_type": "code",
   "execution_count": 97,
   "id": "591268d2",
   "metadata": {},
   "outputs": [
    {
     "data": {
      "text/plain": [
       "0.20349613277071255"
      ]
     },
     "execution_count": 97,
     "metadata": {},
     "output_type": "execute_result"
    }
   ],
   "source": [
    "rr.score(x_test,y_test)"
   ]
  },
  {
   "cell_type": "code",
   "execution_count": 98,
   "id": "df40c29b",
   "metadata": {},
   "outputs": [],
   "source": [
    "#logistic\n",
    "b=StandardScaler().fit_transform(x)\n"
   ]
  },
  {
   "cell_type": "code",
   "execution_count": 99,
   "id": "93682179",
   "metadata": {},
   "outputs": [
    {
     "data": {
      "text/plain": [
       "LogisticRegression(max_iter=10000)"
      ]
     },
     "execution_count": 99,
     "metadata": {},
     "output_type": "execute_result"
    }
   ],
   "source": [
    "p=LogisticRegression(max_iter=10000)\n",
    "p.fit(x,y)"
   ]
  },
  {
   "cell_type": "code",
   "execution_count": 100,
   "id": "4968d58b",
   "metadata": {},
   "outputs": [],
   "source": [
    "t=[[12,22,32,42,52,45,32]]"
   ]
  },
  {
   "cell_type": "code",
   "execution_count": 101,
   "id": "fe5739d8",
   "metadata": {},
   "outputs": [
    {
     "name": "stdout",
     "output_type": "stream",
     "text": [
      "[28079054]\n"
     ]
    }
   ],
   "source": [
    "e=p.predict(t)\n",
    "print(e)"
   ]
  },
  {
   "cell_type": "code",
   "execution_count": 102,
   "id": "9526e073",
   "metadata": {},
   "outputs": [
    {
     "data": {
      "text/plain": [
       "array([28079004, 28079008, 28079011, 28079016, 28079017, 28079018,\n",
       "       28079024, 28079027, 28079035, 28079036, 28079038, 28079039,\n",
       "       28079040, 28079047, 28079048, 28079049, 28079050, 28079054,\n",
       "       28079055, 28079056, 28079057, 28079058, 28079059, 28079060],\n",
       "      dtype=int64)"
      ]
     },
     "execution_count": 102,
     "metadata": {},
     "output_type": "execute_result"
    }
   ],
   "source": [
    "p.classes_"
   ]
  },
  {
   "cell_type": "code",
   "execution_count": 103,
   "id": "403a3632",
   "metadata": {},
   "outputs": [
    {
     "name": "stdout",
     "output_type": "stream",
     "text": [
      "0.8\n"
     ]
    }
   ],
   "source": [
    "print(p.score(x_test,y_test))"
   ]
  },
  {
   "cell_type": "code",
   "execution_count": 104,
   "id": "269001cc",
   "metadata": {},
   "outputs": [
    {
     "data": {
      "text/plain": [
       "8.847129508299259e-16"
      ]
     },
     "execution_count": 104,
     "metadata": {},
     "output_type": "execute_result"
    }
   ],
   "source": [
    "p.predict_proba(t)[0][0]"
   ]
  },
  {
   "cell_type": "code",
   "execution_count": 105,
   "id": "374ffda3",
   "metadata": {},
   "outputs": [
    {
     "data": {
      "text/plain": [
       "4.077481194980319e-26"
      ]
     },
     "execution_count": 105,
     "metadata": {},
     "output_type": "execute_result"
    }
   ],
   "source": [
    "p.predict_proba(t)[0][1]"
   ]
  },
  {
   "cell_type": "code",
   "execution_count": 106,
   "id": "6ddeee21",
   "metadata": {},
   "outputs": [
    {
     "data": {
      "text/plain": [
       "ElasticNet()"
      ]
     },
     "execution_count": 106,
     "metadata": {},
     "output_type": "execute_result"
    }
   ],
   "source": [
    "#elastic\n",
    "p=ElasticNet()\n",
    "p.fit(x_train,y_train)"
   ]
  },
  {
   "cell_type": "code",
   "execution_count": 107,
   "id": "f9df6d43",
   "metadata": {},
   "outputs": [
    {
     "name": "stdout",
     "output_type": "stream",
     "text": [
      "[ 1.4600575   3.14764982  1.80292685 -0.36862845  0.         -0.54860041\n",
      " -0.03269551]\n"
     ]
    }
   ],
   "source": [
    "print(p.coef_)"
   ]
  },
  {
   "cell_type": "code",
   "execution_count": 108,
   "id": "a880ff8a",
   "metadata": {},
   "outputs": [
    {
     "name": "stdout",
     "output_type": "stream",
     "text": [
      "28079026.359780397\n"
     ]
    }
   ],
   "source": [
    "print(p.intercept_)"
   ]
  },
  {
   "cell_type": "code",
   "execution_count": 109,
   "id": "eb39cd95",
   "metadata": {},
   "outputs": [
    {
     "name": "stdout",
     "output_type": "stream",
     "text": [
      "[28079017.5901981  28079047.10541876 28079034.7375569  28079044.91101711\n",
      " 28079035.14434946 28079033.77372533 28079032.28159118 28079038.68327149\n",
      " 28079032.32647679 28079048.73935907 28079034.16122785 28079031.95535381\n",
      " 28079045.79037519 28079026.34010632 28079020.80868723 28079023.61708031\n",
      " 28079047.91938583 28079037.24562054 28079046.40436662 28079049.35703678\n",
      " 28079044.3080515  28079031.85274699 28079031.30414657 28079045.34708454\n",
      " 28079043.26521587 28079047.10541876 28079044.17726946 28079033.06402702\n",
      " 28079047.10541876 28079035.97584943]\n"
     ]
    }
   ],
   "source": [
    "print(p.predict(x_test))"
   ]
  },
  {
   "cell_type": "code",
   "execution_count": 110,
   "id": "1d503a99",
   "metadata": {},
   "outputs": [
    {
     "name": "stdout",
     "output_type": "stream",
     "text": [
      "0.20218966190086307\n"
     ]
    }
   ],
   "source": [
    "print(p.score(x_test,y_test))"
   ]
  },
  {
   "cell_type": "code",
   "execution_count": 111,
   "id": "bba27e24",
   "metadata": {},
   "outputs": [
    {
     "data": {
      "text/plain": [
       "RandomForestClassifier()"
      ]
     },
     "execution_count": 111,
     "metadata": {},
     "output_type": "execute_result"
    }
   ],
   "source": [
    "#randomforest\n",
    "rfc=RandomForestClassifier()\n",
    "rfc.fit(x_train,y_train)"
   ]
  },
  {
   "cell_type": "code",
   "execution_count": 112,
   "id": "6f63f36f",
   "metadata": {},
   "outputs": [],
   "source": [
    "parameters={'max_depth':[1,53,75,3,57],\n",
    "  'min_samples_leaf':[5,34,6,65,45],\n",
    "           'n_estimators':[3,13,7,23,56]}"
   ]
  },
  {
   "cell_type": "code",
   "execution_count": 113,
   "id": "972c65d6",
   "metadata": {},
   "outputs": [
    {
     "name": "stderr",
     "output_type": "stream",
     "text": [
      "C:\\ProgramData\\Anaconda3\\lib\\site-packages\\sklearn\\model_selection\\_split.py:666: UserWarning: The least populated class in y has only 1 members, which is less than n_splits=2.\n",
      "  warnings.warn((\"The least populated class in y has only %d\"\n"
     ]
    },
    {
     "data": {
      "text/plain": [
       "GridSearchCV(cv=2, estimator=RandomForestClassifier(),\n",
       "             param_grid={'max_depth': [1, 53, 75, 3, 57],\n",
       "                         'min_samples_leaf': [5, 34, 6, 65, 45],\n",
       "                         'n_estimators': [3, 13, 7, 23, 56]},\n",
       "             scoring='accuracy')"
      ]
     },
     "execution_count": 113,
     "metadata": {},
     "output_type": "execute_result"
    }
   ],
   "source": [
    "grid_search=GridSearchCV(estimator=rfc,param_grid=parameters,cv=2,scoring=\"accuracy\")\n",
    "grid_search.fit(x_train,y_train)"
   ]
  },
  {
   "cell_type": "code",
   "execution_count": 114,
   "id": "b6c05d5e",
   "metadata": {},
   "outputs": [
    {
     "data": {
      "text/plain": [
       "0.44285714285714284"
      ]
     },
     "execution_count": 114,
     "metadata": {},
     "output_type": "execute_result"
    }
   ],
   "source": [
    "grid_search.best_score_"
   ]
  },
  {
   "cell_type": "code",
   "execution_count": 115,
   "id": "5526f34e",
   "metadata": {},
   "outputs": [],
   "source": [
    "rfc_best=grid_search.best_estimator_"
   ]
  },
  {
   "cell_type": "code",
   "execution_count": 116,
   "id": "3ec3e5b5",
   "metadata": {},
   "outputs": [
    {
     "data": {
      "text/plain": [
       "[Text(1395.0, 1997.73, 'X[3] <= 2.125\\ngini = 0.944\\nsamples = 46\\nvalue = [2, 0, 1, 4, 3, 0, 4, 5, 5, 6, 2, 1, 3, 1\\n1, 2, 4, 4, 5, 3, 4, 2, 3, 5]'),\n",
       " Text(697.5, 665.9099999999999, 'gini = 0.663\\nsamples = 8\\nvalue = [0, 0, 0, 0, 0, 0, 4, 5, 0, 0, 0, 0, 0, 0\\n0, 0, 0, 0, 5, 0, 0, 0, 0, 0]'),\n",
       " Text(2092.5, 665.9099999999999, 'gini = 0.934\\nsamples = 38\\nvalue = [2, 0, 1, 4, 3, 0, 0, 0, 5, 6, 2, 1, 3, 1\\n1, 2, 4, 4, 0, 3, 4, 2, 3, 5]')]"
      ]
     },
     "execution_count": 116,
     "metadata": {},
     "output_type": "execute_result"
    },
    {
     "data": {
      "image/png": "[encoded data removed]",
      "text/plain": [
       "<Figure size 3600x3528 with 1 Axes>"
      ]
     },
     "metadata": {
      "needs_background": "light"
     },
     "output_type": "display_data"
    }
   ],
   "source": [
    "plt.figure(figsize=(50,49))\n",
    "plot_tree(rfc_best.estimators_[5],filled=True)"
   ]
  },
  {
   "cell_type": "markdown",
   "id": "ae166067",
   "metadata": {},
   "source": [
    "# Conclusion:LOGISTIC SCORE=0.8 is a Highest accuracy"
   ]
  },
  {
   "cell_type": "code",
   "execution_count": null,
   "id": "616d3376",
   "metadata": {},
   "outputs": [],
   "source": []
  }
 ],
 "metadata": {
  "kernelspec": {
   "display_name": "Python 3",
   "language": "python",
   "name": "python3"
  },
  "language_info": {
   "codemirror_mode": {
    "name": "ipython",
    "version": 3
   },
   "file_extension": ".py",
   "mimetype": "text/x-python",
   "name": "python",
   "nbconvert_exporter": "python",
   "pygments_lexer": "ipython3",
   "version": "3.8.8"
  }
 },
 "nbformat": 4,
 "nbformat_minor": 5
}
